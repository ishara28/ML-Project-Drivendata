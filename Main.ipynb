{
 "cells": [
  {
   "cell_type": "markdown",
   "id": "2bef1b13-1698-48fc-8944-0e43816b750f",
   "metadata": {},
   "source": [
    "## Import Libraries "
   ]
  },
  {
   "cell_type": "code",
   "execution_count": 115,
   "id": "d6c7e042-a91c-4c48-bcf0-33ce68622957",
   "metadata": {
    "tags": []
   },
   "outputs": [],
   "source": [
    "import pandas as pd\n",
    "import matplotlib.pyplot as plt\n",
    "import seaborn as sns\n",
    "import numpy as np\n",
    "from sklearn.ensemble import RandomForestClassifier\n",
    "from sklearn.tree import DecisionTreeClassifier\n",
    "from sklearn.neighbors import KNeighborsClassifier\n",
    "from mlxtend.feature_selection import SequentialFeatureSelector as SFS\n",
    "from mlxtend.plotting import plot_sequential_feature_selection as plot_sfs\n",
    "from sklearn.model_selection import KFold\n",
    "from sklearn.preprocessing import StandardScaler, MinMaxScaler\n",
    "from sklearn import metrics                           \n",
    "from catboost import CatBoostClassifier\n",
    "from sklearn.model_selection import cross_val_score\n",
    "from sklearn.preprocessing import LabelEncoder\n",
    "from sklearn.model_selection import cross_val_score"
   ]
  },
  {
   "cell_type": "code",
   "execution_count": 102,
   "id": "744b9e9d-09fc-404b-a342-f005da1957cd",
   "metadata": {},
   "outputs": [
    {
     "name": "stderr",
     "output_type": "stream",
     "text": [
      "/home/deepfintech/anaconda3/lib/python3.8/site-packages/IPython/core/interactiveshell.py:3165: DtypeWarning: Columns (29) have mixed types.Specify dtype option on import or set low_memory=False.\n",
      "  has_raised = await self.run_ast_nodes(code_ast.body, cell_name,\n"
     ]
    },
    {
     "data": {
      "text/html": [
       "<div>\n",
       "<style scoped>\n",
       "    .dataframe tbody tr th:only-of-type {\n",
       "        vertical-align: middle;\n",
       "    }\n",
       "\n",
       "    .dataframe tbody tr th {\n",
       "        vertical-align: top;\n",
       "    }\n",
       "\n",
       "    .dataframe thead th {\n",
       "        text-align: right;\n",
       "    }\n",
       "</style>\n",
       "<table border=\"1\" class=\"dataframe\">\n",
       "  <thead>\n",
       "    <tr style=\"text-align: right;\">\n",
       "      <th></th>\n",
       "      <th>Unnamed: 0</th>\n",
       "      <th>index</th>\n",
       "      <th>amount_tsh</th>\n",
       "      <th>gps_height</th>\n",
       "      <th>longitude</th>\n",
       "      <th>latitude</th>\n",
       "      <th>wpt_name</th>\n",
       "      <th>basin</th>\n",
       "      <th>subvillage</th>\n",
       "      <th>region</th>\n",
       "      <th>...</th>\n",
       "      <th>management_group</th>\n",
       "      <th>payment</th>\n",
       "      <th>water_quality</th>\n",
       "      <th>quantity</th>\n",
       "      <th>source</th>\n",
       "      <th>source_class</th>\n",
       "      <th>waterpoint_type</th>\n",
       "      <th>status_group</th>\n",
       "      <th>installer_category</th>\n",
       "      <th>funder_categories</th>\n",
       "    </tr>\n",
       "  </thead>\n",
       "  <tbody>\n",
       "    <tr>\n",
       "      <th>0</th>\n",
       "      <td>0</td>\n",
       "      <td>0</td>\n",
       "      <td>6000.0</td>\n",
       "      <td>1390</td>\n",
       "      <td>34.938093</td>\n",
       "      <td>-9.856322</td>\n",
       "      <td>45683</td>\n",
       "      <td>1</td>\n",
       "      <td>13116</td>\n",
       "      <td>3</td>\n",
       "      <td>...</td>\n",
       "      <td>4</td>\n",
       "      <td>2</td>\n",
       "      <td>6</td>\n",
       "      <td>1</td>\n",
       "      <td>8</td>\n",
       "      <td>0</td>\n",
       "      <td>1</td>\n",
       "      <td>functional</td>\n",
       "      <td>15</td>\n",
       "      <td>11</td>\n",
       "    </tr>\n",
       "    <tr>\n",
       "      <th>1</th>\n",
       "      <td>1</td>\n",
       "      <td>1</td>\n",
       "      <td>0.0</td>\n",
       "      <td>1399</td>\n",
       "      <td>34.698766</td>\n",
       "      <td>-2.147466</td>\n",
       "      <td>45426</td>\n",
       "      <td>4</td>\n",
       "      <td>17596</td>\n",
       "      <td>9</td>\n",
       "      <td>...</td>\n",
       "      <td>4</td>\n",
       "      <td>0</td>\n",
       "      <td>6</td>\n",
       "      <td>2</td>\n",
       "      <td>5</td>\n",
       "      <td>1</td>\n",
       "      <td>1</td>\n",
       "      <td>functional</td>\n",
       "      <td>15</td>\n",
       "      <td>11</td>\n",
       "    </tr>\n",
       "    <tr>\n",
       "      <th>2</th>\n",
       "      <td>2</td>\n",
       "      <td>2</td>\n",
       "      <td>25.0</td>\n",
       "      <td>686</td>\n",
       "      <td>37.460664</td>\n",
       "      <td>-3.821329</td>\n",
       "      <td>17767</td>\n",
       "      <td>5</td>\n",
       "      <td>10096</td>\n",
       "      <td>8</td>\n",
       "      <td>...</td>\n",
       "      <td>4</td>\n",
       "      <td>4</td>\n",
       "      <td>6</td>\n",
       "      <td>1</td>\n",
       "      <td>0</td>\n",
       "      <td>1</td>\n",
       "      <td>2</td>\n",
       "      <td>functional</td>\n",
       "      <td>26</td>\n",
       "      <td>11</td>\n",
       "    </tr>\n",
       "    <tr>\n",
       "      <th>3</th>\n",
       "      <td>3</td>\n",
       "      <td>3</td>\n",
       "      <td>0.0</td>\n",
       "      <td>263</td>\n",
       "      <td>38.486161</td>\n",
       "      <td>-11.155298</td>\n",
       "      <td>45537</td>\n",
       "      <td>7</td>\n",
       "      <td>9998</td>\n",
       "      <td>12</td>\n",
       "      <td>...</td>\n",
       "      <td>4</td>\n",
       "      <td>0</td>\n",
       "      <td>6</td>\n",
       "      <td>0</td>\n",
       "      <td>3</td>\n",
       "      <td>0</td>\n",
       "      <td>2</td>\n",
       "      <td>non functional</td>\n",
       "      <td>21</td>\n",
       "      <td>16</td>\n",
       "    </tr>\n",
       "    <tr>\n",
       "      <th>4</th>\n",
       "      <td>4</td>\n",
       "      <td>4</td>\n",
       "      <td>0.0</td>\n",
       "      <td>0</td>\n",
       "      <td>31.130847</td>\n",
       "      <td>-1.825359</td>\n",
       "      <td>43411</td>\n",
       "      <td>4</td>\n",
       "      <td>8583</td>\n",
       "      <td>4</td>\n",
       "      <td>...</td>\n",
       "      <td>1</td>\n",
       "      <td>0</td>\n",
       "      <td>6</td>\n",
       "      <td>3</td>\n",
       "      <td>5</td>\n",
       "      <td>1</td>\n",
       "      <td>1</td>\n",
       "      <td>functional</td>\n",
       "      <td>15</td>\n",
       "      <td>11</td>\n",
       "    </tr>\n",
       "  </tbody>\n",
       "</table>\n",
       "<p>5 rows × 32 columns</p>\n",
       "</div>"
      ],
      "text/plain": [
       "   Unnamed: 0  index  amount_tsh  gps_height  longitude   latitude  wpt_name  \\\n",
       "0           0      0      6000.0        1390  34.938093  -9.856322     45683   \n",
       "1           1      1         0.0        1399  34.698766  -2.147466     45426   \n",
       "2           2      2        25.0         686  37.460664  -3.821329     17767   \n",
       "3           3      3         0.0         263  38.486161 -11.155298     45537   \n",
       "4           4      4         0.0           0  31.130847  -1.825359     43411   \n",
       "\n",
       "   basin  subvillage  region  ...  management_group  payment  water_quality  \\\n",
       "0      1       13116       3  ...                 4        2              6   \n",
       "1      4       17596       9  ...                 4        0              6   \n",
       "2      5       10096       8  ...                 4        4              6   \n",
       "3      7        9998      12  ...                 4        0              6   \n",
       "4      4        8583       4  ...                 1        0              6   \n",
       "\n",
       "   quantity  source  source_class  waterpoint_type    status_group  \\\n",
       "0         1       8             0                1      functional   \n",
       "1         2       5             1                1      functional   \n",
       "2         1       0             1                2      functional   \n",
       "3         0       3             0                2  non functional   \n",
       "4         3       5             1                1      functional   \n",
       "\n",
       "   installer_category  funder_categories  \n",
       "0                  15                 11  \n",
       "1                  15                 11  \n",
       "2                  26                 11  \n",
       "3                  21                 16  \n",
       "4                  15                 11  \n",
       "\n",
       "[5 rows x 32 columns]"
      ]
     },
     "execution_count": 102,
     "metadata": {},
     "output_type": "execute_result"
    }
   ],
   "source": [
    "df_clean = pd.read_csv(\"Refined_data.csv\")\n",
    "df_clean.head()"
   ]
  },
  {
   "cell_type": "code",
   "execution_count": null,
   "id": "35b2eefa-e3ba-4c57-beee-7c0bc156c5c1",
   "metadata": {},
   "outputs": [],
   "source": [
    "scaler = StandardScaler()\n",
    "scaler"
   ]
  },
  {
   "cell_type": "code",
   "execution_count": 109,
   "id": "dd8bd3d4-1dfc-4fbd-8c34-9f2b0c651ab2",
   "metadata": {},
   "outputs": [],
   "source": [
    "# Selected features from sequential feature selection. \n",
    "selected_features=['amount_tsh', 'gps_height', 'longitude', 'latitude', 'wpt_name',\n",
    "       'basin', 'subvillage', 'region', 'region_code', 'district_code', 'lga',\n",
    "       'ward', 'population', 'public_meeting', 'scheme_name', 'permit',\n",
    "       'construction_year', 'extraction_type', 'extraction_type_class',\n",
    "       'management_group', 'payment', 'water_quality', 'quantity', 'source',\n",
    "       'source_class', 'waterpoint_type', 'installer_category', 'status_group' ]\n",
    "\n",
    "df_clean = df_clean[selected_features]"
   ]
  },
  {
   "cell_type": "code",
   "execution_count": 122,
   "id": "4cd96cf5-160d-4b4a-8c54-b7b075d85e2c",
   "metadata": {},
   "outputs": [
    {
     "name": "stdout",
     "output_type": "stream",
     "text": [
      "trainX shape :  (59400, 27)\n",
      "trainY shape :  (59400,)\n"
     ]
    }
   ],
   "source": [
    "trainX = df_clean[:59400].copy()\n",
    "trainY=trainX.pop('status_group')\n",
    "\n",
    "trainX = scaler.fit_transform(trainX)\n",
    "\n",
    "print (\"trainX shape : \", trainX.shape)\n",
    "print (\"trainY shape : \", trainY.shape)"
   ]
  },
  {
   "cell_type": "code",
   "execution_count": 124,
   "id": "9ba9eecb-dd6d-48da-82e3-9b12dee9d5c4",
   "metadata": {},
   "outputs": [
    {
     "name": "stdout",
     "output_type": "stream",
     "text": [
      "(14850, 27)\n"
     ]
    }
   ],
   "source": [
    "testX = df_clean[59400:].copy()\n",
    "testX.pop('status_group')\n",
    "\n",
    "testX = scaler.fit_transform(testX)\n",
    "\n",
    "print (testX.shape)"
   ]
  },
  {
   "cell_type": "markdown",
   "id": "8ab6baf6-b23c-4f49-9f6b-4723de13a450",
   "metadata": {},
   "source": [
    "### **For the models,** \n",
    "* **Random Forest**\n",
    "* **XGBoost**\n",
    "* **CatBoost**\n",
    "* **KNN**"
   ]
  },
  {
   "cell_type": "markdown",
   "id": "074b006c-028a-478b-92d1-6576d8b907b3",
   "metadata": {},
   "source": [
    "#### **1. Random Forest**"
   ]
  },
  {
   "cell_type": "code",
   "execution_count": 125,
   "id": "2f2b6610-2898-4e71-ac24-a847189ccee6",
   "metadata": {},
   "outputs": [
    {
     "name": "stdout",
     "output_type": "stream",
     "text": [
      "mean_score 0.8131986531986533\n"
     ]
    },
    {
     "data": {
      "text/plain": [
       "0.8131986531986533"
      ]
     },
     "execution_count": 125,
     "metadata": {},
     "output_type": "execute_result"
    }
   ],
   "source": [
    "# Random Forest \n",
    "\n",
    "def get_acc_rf(x,y):\n",
    "    rf=RandomForestClassifier(criterion='gini',   #with sqrrfs 0.6948, with out sqrrfs 68.88\n",
    "                          min_samples_split=5,\n",
    "                          min_samples_leaf=1,\n",
    "                          max_features='auto',\n",
    "                          oob_score=False,\n",
    "                          random_state=1,\n",
    "                           n_jobs=-1\n",
    "                          )\n",
    "    score=cross_val_score(rf,x,y,cv=5)\n",
    "    \n",
    "#   print(\"score\",score)\n",
    "    print(\"mean_score\",score.mean())\n",
    "    return score.mean()\n",
    "\n",
    "get_acc_rf(trainX,trainY)"
   ]
  },
  {
   "cell_type": "markdown",
   "id": "6288f711-cf15-4b39-874b-525ffc4d9f62",
   "metadata": {},
   "source": [
    "### **2. XGBoost**"
   ]
  },
  {
   "cell_type": "code",
   "execution_count": 113,
   "id": "08ca2fdf-2b66-46f5-ba8d-94b54cb18f9d",
   "metadata": {},
   "outputs": [
    {
     "name": "stderr",
     "output_type": "stream",
     "text": [
      "/home/deepfintech/anaconda3/lib/python3.8/site-packages/xgboost/sklearn.py:888: UserWarning: The use of label encoder in XGBClassifier is deprecated and will be removed in a future release. To remove this warning, do the following: 1) Pass option use_label_encoder=False when constructing XGBClassifier object; and 2) Encode your labels (y) as integers starting with 0, i.e. 0, 1, 2, ..., [num_class - 1].\n",
      "  warnings.warn(label_encoder_deprecation_msg, UserWarning)\n"
     ]
    },
    {
     "name": "stdout",
     "output_type": "stream",
     "text": [
      "[09:13:17] WARNING: /tmp/build/80754af9/xgboost-split_1619724447847/work/src/learner.cc:1061: Starting in XGBoost 1.3.0, the default evaluation metric used with the objective 'multi:softprob' was changed from 'merror' to 'mlogloss'. Explicitly set eval_metric if you'd like to restore the old behavior.\n"
     ]
    },
    {
     "name": "stderr",
     "output_type": "stream",
     "text": [
      "/home/deepfintech/anaconda3/lib/python3.8/site-packages/xgboost/sklearn.py:888: UserWarning: The use of label encoder in XGBClassifier is deprecated and will be removed in a future release. To remove this warning, do the following: 1) Pass option use_label_encoder=False when constructing XGBClassifier object; and 2) Encode your labels (y) as integers starting with 0, i.e. 0, 1, 2, ..., [num_class - 1].\n",
      "  warnings.warn(label_encoder_deprecation_msg, UserWarning)\n"
     ]
    },
    {
     "name": "stdout",
     "output_type": "stream",
     "text": [
      "[09:13:19] WARNING: /tmp/build/80754af9/xgboost-split_1619724447847/work/src/learner.cc:1061: Starting in XGBoost 1.3.0, the default evaluation metric used with the objective 'multi:softprob' was changed from 'merror' to 'mlogloss'. Explicitly set eval_metric if you'd like to restore the old behavior.\n"
     ]
    },
    {
     "name": "stderr",
     "output_type": "stream",
     "text": [
      "/home/deepfintech/anaconda3/lib/python3.8/site-packages/xgboost/sklearn.py:888: UserWarning: The use of label encoder in XGBClassifier is deprecated and will be removed in a future release. To remove this warning, do the following: 1) Pass option use_label_encoder=False when constructing XGBClassifier object; and 2) Encode your labels (y) as integers starting with 0, i.e. 0, 1, 2, ..., [num_class - 1].\n",
      "  warnings.warn(label_encoder_deprecation_msg, UserWarning)\n"
     ]
    },
    {
     "name": "stdout",
     "output_type": "stream",
     "text": [
      "[09:13:21] WARNING: /tmp/build/80754af9/xgboost-split_1619724447847/work/src/learner.cc:1061: Starting in XGBoost 1.3.0, the default evaluation metric used with the objective 'multi:softprob' was changed from 'merror' to 'mlogloss'. Explicitly set eval_metric if you'd like to restore the old behavior.\n"
     ]
    },
    {
     "name": "stderr",
     "output_type": "stream",
     "text": [
      "/home/deepfintech/anaconda3/lib/python3.8/site-packages/xgboost/sklearn.py:888: UserWarning: The use of label encoder in XGBClassifier is deprecated and will be removed in a future release. To remove this warning, do the following: 1) Pass option use_label_encoder=False when constructing XGBClassifier object; and 2) Encode your labels (y) as integers starting with 0, i.e. 0, 1, 2, ..., [num_class - 1].\n",
      "  warnings.warn(label_encoder_deprecation_msg, UserWarning)\n"
     ]
    },
    {
     "name": "stdout",
     "output_type": "stream",
     "text": [
      "[09:13:22] WARNING: /tmp/build/80754af9/xgboost-split_1619724447847/work/src/learner.cc:1061: Starting in XGBoost 1.3.0, the default evaluation metric used with the objective 'multi:softprob' was changed from 'merror' to 'mlogloss'. Explicitly set eval_metric if you'd like to restore the old behavior.\n"
     ]
    },
    {
     "name": "stderr",
     "output_type": "stream",
     "text": [
      "/home/deepfintech/anaconda3/lib/python3.8/site-packages/xgboost/sklearn.py:888: UserWarning: The use of label encoder in XGBClassifier is deprecated and will be removed in a future release. To remove this warning, do the following: 1) Pass option use_label_encoder=False when constructing XGBClassifier object; and 2) Encode your labels (y) as integers starting with 0, i.e. 0, 1, 2, ..., [num_class - 1].\n",
      "  warnings.warn(label_encoder_deprecation_msg, UserWarning)\n"
     ]
    },
    {
     "name": "stdout",
     "output_type": "stream",
     "text": [
      "[09:13:24] WARNING: /tmp/build/80754af9/xgboost-split_1619724447847/work/src/learner.cc:1061: Starting in XGBoost 1.3.0, the default evaluation metric used with the objective 'multi:softprob' was changed from 'merror' to 'mlogloss'. Explicitly set eval_metric if you'd like to restore the old behavior.\n",
      "mean_score 0.5929292929292929\n"
     ]
    },
    {
     "data": {
      "text/plain": [
       "0.5929292929292929"
      ]
     },
     "execution_count": 113,
     "metadata": {},
     "output_type": "execute_result"
    }
   ],
   "source": [
    "# XGBoost \n",
    "\n",
    "import xgboost as xgb\n",
    "from sklearn.model_selection import cross_val_score\n",
    "\n",
    "def get_acc_xg(trainX,trainY):\n",
    "    xgboost=xgb.XGBClassifier(objective =\"multi:softmax\",\n",
    "                              colsample_bytree = 0.01,\n",
    "                              learning_rate = 0.001, max_depth = 6,\n",
    "                              alpha = 0.1,\n",
    "                              n_estimators = 100 )\n",
    "    score=cross_val_score(xgboost,trainX,trainY,cv=5)\n",
    "    \n",
    "\n",
    "    print(\"mean_score\",score.mean())\n",
    "    return score.mean()\n",
    "get_acc_xg(trainX,trainY)"
   ]
  },
  {
   "cell_type": "markdown",
   "id": "a28a1a71-797d-4d33-b564-0ef4ccac4554",
   "metadata": {},
   "source": [
    "### **3. CatBoost**"
   ]
  },
  {
   "cell_type": "code",
   "execution_count": 118,
   "id": "c05b500b-6652-4376-86f8-38cdea2c1213",
   "metadata": {},
   "outputs": [
    {
     "name": "stdout",
     "output_type": "stream",
     "text": [
      "mean_score 0.7786363636363637\n"
     ]
    }
   ],
   "source": [
    "# CatBoost \n",
    "cat=CatBoostClassifier( verbose=False, iterations=1500,\n",
    "    learning_rate=0.2053434310118264,\n",
    "    random_strength=8,\n",
    "    bagging_temperature=0,\n",
    "    max_bin=20,\n",
    "    grow_policy=\"Depthwise\",\n",
    "    min_data_in_leaf=10,\n",
    "    max_depth=3,\n",
    "    l2_leaf_reg=9.501510078266123e-06,\n",
    "    one_hot_max_size=500,\n",
    "    auto_class_weights=\"SqrtBalanced\")\n",
    "\n",
    "score=cross_val_score(cat,trainX,trainY,cv=5)\n",
    "print(\"mean_score\",score.mean())"
   ]
  },
  {
   "cell_type": "markdown",
   "id": "8e01f6ba-73a3-4775-b987-ce2a3604e51b",
   "metadata": {},
   "source": [
    "### **4. KNN**"
   ]
  },
  {
   "cell_type": "code",
   "execution_count": 116,
   "id": "23107c21-87b9-4050-b7a2-621419fd42b5",
   "metadata": {},
   "outputs": [
    {
     "name": "stdout",
     "output_type": "stream",
     "text": [
      "0.5308585858585858\n",
      "0.5437373737373739\n",
      "0.546077441077441\n",
      "0.5477441077441079\n",
      "0.5454882154882155\n",
      "0.5502020202020202\n",
      "0.5477272727272727\n",
      "0.5483838383838384\n",
      "0.550976430976431\n",
      "0.5498316498316498\n",
      "0.5509932659932659\n",
      "0.5510101010101011\n",
      "0.5515993265993265\n",
      "0.550942760942761\n",
      "0.5512289562289563\n",
      "0.5518013468013467\n",
      "0.5526094276094277\n",
      "0.5515488215488216\n",
      "0.5528451178451178\n",
      "0.5524242424242424\n",
      "0.5526430976430976\n",
      "0.5535521885521886\n",
      "0.5531144781144781\n",
      "0.552979797979798\n",
      "0.554090909090909\n",
      "0.5526094276094276\n",
      "0.5525420875420874\n",
      "0.5517845117845118\n",
      "0.5517845117845118\n",
      "0.5521885521885521\n",
      "0.5526599326599326\n",
      "0.5514646464646465\n",
      "0.550909090909091\n",
      "0.5514478114478114\n",
      "0.5507575757575758\n",
      "0.5516498316498317\n",
      "0.5522053872053871\n",
      "0.5522390572390572\n",
      "0.5510942760942761\n",
      "0.5512794612794613\n",
      "0.5508417508417509\n",
      "0.5501683501683502\n",
      "0.5513131313131313\n",
      "0.5504545454545455\n",
      "0.5507575757575758\n",
      "0.5495286195286195\n",
      "0.5509090909090909\n",
      "0.5504713804713804\n",
      "0.5501515151515152\n",
      "0.5502356902356902\n",
      "0.5494949494949495\n",
      "0.5496969696969698\n",
      "0.5495622895622896\n",
      "0.5503872053872053\n",
      "0.5497474747474748\n",
      "0.55003367003367\n",
      "0.5509090909090909\n",
      "0.5499999999999999\n",
      "0.5498821548821549\n",
      "0.5493434343434342\n",
      "0.548973063973064\n",
      "0.5488720538720538\n",
      "0.5488383838383839\n",
      "0.5485858585858586\n",
      "0.5494781144781145\n",
      "0.5498484848484848\n",
      "0.5493771043771043\n",
      "0.5493939393939394\n",
      "0.5493939393939394\n",
      "0.5498148148148149\n",
      "0.549023569023569\n",
      "0.5499158249158249\n",
      "0.5502356902356903\n",
      "0.5503703703703703\n",
      "0.5505892255892256\n",
      "0.5512962962962963\n",
      "0.5514309764309765\n",
      "0.552053872053872\n",
      "0.5514983164983165\n",
      "0.5522727272727272\n",
      "0.5517845117845118\n",
      "0.5523232323232324\n",
      "0.5522222222222222\n",
      "0.5528451178451178\n",
      "0.5515151515151515\n",
      "0.5526599326599326\n",
      "0.5517845117845118\n",
      "0.553030303030303\n",
      "0.5515993265993265\n",
      "0.5524915824915825\n",
      "0.5517845117845117\n",
      "0.552003367003367\n",
      "0.5524747474747475\n",
      "0.5520875420875422\n",
      "0.5526094276094276\n",
      "0.5523063973063973\n",
      "0.5523905723905724\n",
      "0.5522053872053873\n",
      "0.5527104377104377\n"
     ]
    }
   ],
   "source": [
    "# KNN classification\n",
    "\n",
    "accuracy_rate={}\n",
    "\n",
    "for i in range(1,100):\n",
    "    \n",
    "    knn = KNeighborsClassifier(n_neighbors=i)\n",
    "    score=cross_val_score(knn,trainX,trainY,cv=5)\n",
    "    accuracy_rate[i]=score.mean()\n",
    "    print(score.mean())"
   ]
  },
  {
   "cell_type": "markdown",
   "id": "fe887464-d5ab-485b-9117-f4621130a0ee",
   "metadata": {},
   "source": [
    "***\n",
    "**Highest acccuracy is for Random Forest Classifier**\n",
    "\n",
    "**Created the model with Random Forest**"
   ]
  },
  {
   "cell_type": "code",
   "execution_count": 126,
   "id": "b94c3871-152d-41c5-a612-e65a046465fb",
   "metadata": {},
   "outputs": [
    {
     "data": {
      "text/plain": [
       "RandomForestClassifier(min_samples_split=5, n_jobs=-1, random_state=1)"
      ]
     },
     "execution_count": 126,
     "metadata": {},
     "output_type": "execute_result"
    }
   ],
   "source": [
    "rf=RandomForestClassifier(criterion='gini',   \n",
    "                          min_samples_split=5,\n",
    "                          min_samples_leaf=1,\n",
    "                        max_features='auto',\n",
    "                           oob_score=False,\n",
    "                           random_state=1,\n",
    "                            n_jobs=-1)\n",
    "rf.fit(trainX,trainY)"
   ]
  },
  {
   "cell_type": "code",
   "execution_count": 127,
   "id": "cecb87f2-8ff7-44bc-8a54-01618a64d6fc",
   "metadata": {},
   "outputs": [
    {
     "name": "stdout",
     "output_type": "stream",
     "text": [
      "14850\n"
     ]
    }
   ],
   "source": [
    "predictions=rf.predict(testX)\n",
    "\n",
    "df_output=pd.read_csv(\"data/Submission format.csv\",index_col=\"id\")\n",
    "df_output['status_group']=predictions\n",
    "df_output.to_csv(\"submission_file.csv\")\n",
    "    \n",
    "print (len(predictions))"
   ]
  }
 ],
 "metadata": {
  "kernelspec": {
   "display_name": "Python 3",
   "language": "python",
   "name": "python3"
  },
  "language_info": {
   "codemirror_mode": {
    "name": "ipython",
    "version": 3
   },
   "file_extension": ".py",
   "mimetype": "text/x-python",
   "name": "python",
   "nbconvert_exporter": "python",
   "pygments_lexer": "ipython3",
   "version": "3.8.8"
  }
 },
 "nbformat": 4,
 "nbformat_minor": 5
}
