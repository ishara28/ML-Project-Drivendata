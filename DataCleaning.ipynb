{
 "cells": [
  {
   "cell_type": "code",
   "execution_count": 1,
   "id": "34080307-3b5d-432a-852e-dd2c928ae999",
   "metadata": {},
   "outputs": [],
   "source": [
    "import numpy as np      \n",
    "import pandas as pd     \n",
    "\n",
    "import matplotlib.pyplot as plt  \n",
    "%matplotlib inline        \n",
    "import seaborn as sns"
   ]
  },
  {
   "cell_type": "code",
   "execution_count": 2,
   "id": "f46ddc3b-1311-488d-a900-2790114d285b",
   "metadata": {},
   "outputs": [],
   "source": [
    "# pd.options.display.max_columns=100 # To see the hidden columns in dataframe"
   ]
  },
  {
   "cell_type": "markdown",
   "id": "071b80fe-5d76-480b-940b-30650bb6c8a1",
   "metadata": {},
   "source": [
    "#### **Load Data**"
   ]
  },
  {
   "cell_type": "code",
   "execution_count": 3,
   "id": "abc28c1b-ea07-481e-b552-11ec5046ff3d",
   "metadata": {},
   "outputs": [
    {
     "data": {
      "text/plain": [
       "(59400, 40)"
      ]
     },
     "execution_count": 3,
     "metadata": {},
     "output_type": "execute_result"
    }
   ],
   "source": [
    "# Training values \n",
    "training_values = pd.read_csv('data/Training set values.csv')\n",
    "training_values.shape"
   ]
  },
  {
   "cell_type": "code",
   "execution_count": 4,
   "id": "0b1d70a1-5757-40cc-985e-4df66aeb8bb7",
   "metadata": {},
   "outputs": [
    {
     "data": {
      "text/plain": [
       "(59400, 2)"
      ]
     },
     "execution_count": 4,
     "metadata": {},
     "output_type": "execute_result"
    }
   ],
   "source": [
    "# Training labels \n",
    "training_labels = pd.read_csv('data/Training set labels.csv') \n",
    "training_labels.shape"
   ]
  },
  {
   "cell_type": "code",
   "execution_count": 5,
   "id": "fbe961b2-ee9d-4d2d-8986-dbae3f015231",
   "metadata": {},
   "outputs": [],
   "source": [
    "# set id as an index to training values\n",
    "training_values.set_index('id',inplace=True) "
   ]
  },
  {
   "cell_type": "code",
   "execution_count": 6,
   "id": "1ef11039-1e3e-4e91-aea7-39765d049c00",
   "metadata": {},
   "outputs": [],
   "source": [
    "# set id as an index to train labels\n",
    "training_labels.set_index('id',inplace=True) "
   ]
  },
  {
   "cell_type": "code",
   "execution_count": 7,
   "id": "c05e40c8-a619-46fe-b848-857d4fa89a36",
   "metadata": {},
   "outputs": [
    {
     "name": "stdout",
     "output_type": "stream",
     "text": [
      "<class 'pandas.core.frame.DataFrame'>\n",
      "Int64Index: 59400 entries, 69572 to 26348\n",
      "Data columns (total 40 columns):\n",
      " #   Column                 Non-Null Count  Dtype  \n",
      "---  ------                 --------------  -----  \n",
      " 0   amount_tsh             59400 non-null  float64\n",
      " 1   date_recorded          59400 non-null  object \n",
      " 2   funder                 55765 non-null  object \n",
      " 3   gps_height             59400 non-null  int64  \n",
      " 4   installer              55745 non-null  object \n",
      " 5   longitude              59400 non-null  float64\n",
      " 6   latitude               59400 non-null  float64\n",
      " 7   wpt_name               59400 non-null  object \n",
      " 8   num_private            59400 non-null  int64  \n",
      " 9   basin                  59400 non-null  object \n",
      " 10  subvillage             59029 non-null  object \n",
      " 11  region                 59400 non-null  object \n",
      " 12  region_code            59400 non-null  int64  \n",
      " 13  district_code          59400 non-null  int64  \n",
      " 14  lga                    59400 non-null  object \n",
      " 15  ward                   59400 non-null  object \n",
      " 16  population             59400 non-null  int64  \n",
      " 17  public_meeting         56066 non-null  object \n",
      " 18  recorded_by            59400 non-null  object \n",
      " 19  scheme_management      55523 non-null  object \n",
      " 20  scheme_name            31234 non-null  object \n",
      " 21  permit                 56344 non-null  object \n",
      " 22  construction_year      59400 non-null  int64  \n",
      " 23  extraction_type        59400 non-null  object \n",
      " 24  extraction_type_group  59400 non-null  object \n",
      " 25  extraction_type_class  59400 non-null  object \n",
      " 26  management             59400 non-null  object \n",
      " 27  management_group       59400 non-null  object \n",
      " 28  payment                59400 non-null  object \n",
      " 29  payment_type           59400 non-null  object \n",
      " 30  water_quality          59400 non-null  object \n",
      " 31  quality_group          59400 non-null  object \n",
      " 32  quantity               59400 non-null  object \n",
      " 33  quantity_group         59400 non-null  object \n",
      " 34  source                 59400 non-null  object \n",
      " 35  source_type            59400 non-null  object \n",
      " 36  source_class           59400 non-null  object \n",
      " 37  waterpoint_type        59400 non-null  object \n",
      " 38  waterpoint_type_group  59400 non-null  object \n",
      " 39  status_group           59400 non-null  object \n",
      "dtypes: float64(3), int64(6), object(31)\n",
      "memory usage: 18.6+ MB\n"
     ]
    }
   ],
   "source": [
    "# Concatinate both training values and training labels together\n",
    "\n",
    "training_data = pd.concat([training_values, training_labels], axis=1)\n",
    "training_data.info()"
   ]
  },
  {
   "cell_type": "code",
   "execution_count": 8,
   "id": "d93ca590-268b-44ad-9912-89fb61cfe55d",
   "metadata": {},
   "outputs": [
    {
     "data": {
      "text/plain": [
       "(14850, 39)"
      ]
     },
     "execution_count": 8,
     "metadata": {},
     "output_type": "execute_result"
    }
   ],
   "source": [
    "# Testing data \n",
    "\n",
    "testing_data = pd.read_csv(\"data/Test set values.csv\")\n",
    "testing_data.set_index('id',inplace=True) \n",
    "testing_data.shape"
   ]
  },
  {
   "cell_type": "code",
   "execution_count": 9,
   "id": "5d65c548-6967-4d1d-bef7-fd800043aebc",
   "metadata": {},
   "outputs": [
    {
     "data": {
      "text/plain": [
       "(74250, 40)"
      ]
     },
     "execution_count": 9,
     "metadata": {},
     "output_type": "execute_result"
    }
   ],
   "source": [
    "# Concatinate training_data and testing_data \n",
    "\n",
    "df_all = pd.concat([training_data, testing_data]).reset_index(drop=True)\n",
    "df = df_all.copy()\n",
    "df.shape"
   ]
  },
  {
   "cell_type": "code",
   "execution_count": 10,
   "id": "0a7ead90-b099-4fcc-afb0-bbb7cf38171d",
   "metadata": {},
   "outputs": [],
   "source": [
    "# Set Index for df\n",
    "df.reset_index(inplace=True) "
   ]
  },
  {
   "cell_type": "markdown",
   "id": "6cb619bb-8571-43ce-aa9a-433d21818822",
   "metadata": {},
   "source": [
    "###\n",
    "\n",
    "\n",
    "### **Explore The Features & Drop unwanted columns**"
   ]
  },
  {
   "cell_type": "code",
   "execution_count": 11,
   "id": "6a258b82-f4c5-4650-8f30-23b72177ab85",
   "metadata": {},
   "outputs": [
    {
     "name": "stdout",
     "output_type": "stream",
     "text": [
      "<class 'pandas.core.frame.DataFrame'>\n",
      "RangeIndex: 74250 entries, 0 to 74249\n",
      "Data columns (total 41 columns):\n",
      " #   Column                 Non-Null Count  Dtype  \n",
      "---  ------                 --------------  -----  \n",
      " 0   index                  74250 non-null  int64  \n",
      " 1   amount_tsh             74250 non-null  float64\n",
      " 2   date_recorded          74250 non-null  object \n",
      " 3   funder                 69746 non-null  object \n",
      " 4   gps_height             74250 non-null  int64  \n",
      " 5   installer              69718 non-null  object \n",
      " 6   longitude              74250 non-null  float64\n",
      " 7   latitude               74250 non-null  float64\n",
      " 8   wpt_name               74250 non-null  object \n",
      " 9   num_private            74250 non-null  int64  \n",
      " 10  basin                  74250 non-null  object \n",
      " 11  subvillage             73780 non-null  object \n",
      " 12  region                 74250 non-null  object \n",
      " 13  region_code            74250 non-null  int64  \n",
      " 14  district_code          74250 non-null  int64  \n",
      " 15  lga                    74250 non-null  object \n",
      " 16  ward                   74250 non-null  object \n",
      " 17  population             74250 non-null  int64  \n",
      " 18  public_meeting         70095 non-null  object \n",
      " 19  recorded_by            74250 non-null  object \n",
      " 20  scheme_management      69404 non-null  object \n",
      " 21  scheme_name            38992 non-null  object \n",
      " 22  permit                 70457 non-null  object \n",
      " 23  construction_year      74250 non-null  int64  \n",
      " 24  extraction_type        74250 non-null  object \n",
      " 25  extraction_type_group  74250 non-null  object \n",
      " 26  extraction_type_class  74250 non-null  object \n",
      " 27  management             74250 non-null  object \n",
      " 28  management_group       74250 non-null  object \n",
      " 29  payment                74250 non-null  object \n",
      " 30  payment_type           74250 non-null  object \n",
      " 31  water_quality          74250 non-null  object \n",
      " 32  quality_group          74250 non-null  object \n",
      " 33  quantity               74250 non-null  object \n",
      " 34  quantity_group         74250 non-null  object \n",
      " 35  source                 74250 non-null  object \n",
      " 36  source_type            74250 non-null  object \n",
      " 37  source_class           74250 non-null  object \n",
      " 38  waterpoint_type        74250 non-null  object \n",
      " 39  waterpoint_type_group  74250 non-null  object \n",
      " 40  status_group           59400 non-null  object \n",
      "dtypes: float64(3), int64(7), object(31)\n",
      "memory usage: 23.2+ MB\n"
     ]
    }
   ],
   "source": [
    "df.info()"
   ]
  },
  {
   "cell_type": "code",
   "execution_count": 12,
   "id": "e7b46f51-b020-4ecc-a8b2-a4ca79103228",
   "metadata": {},
   "outputs": [
    {
     "data": {
      "text/plain": [
       "scheme_name              28166\n",
       "scheme_management         3877\n",
       "installer                 3655\n",
       "funder                    3635\n",
       "public_meeting            3334\n",
       "permit                    3056\n",
       "subvillage                 371\n",
       "water_quality                0\n",
       "extraction_type_class        0\n",
       "management                   0\n",
       "management_group             0\n",
       "payment                      0\n",
       "payment_type                 0\n",
       "quantity                     0\n",
       "quality_group                0\n",
       "extraction_type              0\n",
       "quantity_group               0\n",
       "source                       0\n",
       "source_type                  0\n",
       "source_class                 0\n",
       "waterpoint_type              0\n",
       "waterpoint_type_group        0\n",
       "extraction_type_group        0\n",
       "amount_tsh                   0\n",
       "construction_year            0\n",
       "date_recorded                0\n",
       "recorded_by                  0\n",
       "population                   0\n",
       "ward                         0\n",
       "lga                          0\n",
       "district_code                0\n",
       "region_code                  0\n",
       "region                       0\n",
       "basin                        0\n",
       "num_private                  0\n",
       "wpt_name                     0\n",
       "latitude                     0\n",
       "longitude                    0\n",
       "gps_height                   0\n",
       "status_group                 0\n",
       "dtype: int64"
      ]
     },
     "execution_count": 12,
     "metadata": {},
     "output_type": "execute_result"
    }
   ],
   "source": [
    "# Check null values in the training data (training_values + training labelss\n",
    "training_data.isna().sum().sort_values(ascending=False)"
   ]
  },
  {
   "cell_type": "code",
   "execution_count": 13,
   "id": "7cfd99d5-b775-49cb-aa2f-938f351d03c1",
   "metadata": {},
   "outputs": [
    {
     "data": {
      "text/plain": [
       "functional                 32259\n",
       "non functional             22824\n",
       "functional needs repair     4317\n",
       "Name: status_group, dtype: int64"
      ]
     },
     "execution_count": 13,
     "metadata": {},
     "output_type": "execute_result"
    }
   ],
   "source": [
    "# Check the target classes \n",
    "df['status_group'].value_counts()"
   ]
  },
  {
   "cell_type": "markdown",
   "id": "afc43d0e-8331-4cf6-a7ee-33302f4063e4",
   "metadata": {},
   "source": [
    "### **There are some columns with similar data. We have to clear and rearrange them first.** "
   ]
  },
  {
   "cell_type": "markdown",
   "id": "13a8ebc2-f826-459f-b9d9-61137dfec71e",
   "metadata": {},
   "source": [
    "**Check below features**\n",
    "* scheme_management\n",
    "* management\n",
    "\n"
   ]
  },
  {
   "cell_type": "code",
   "execution_count": 14,
   "id": "99bff193-3226-45df-b157-f76960e2feee",
   "metadata": {},
   "outputs": [
    {
     "data": {
      "text/plain": [
       "VWC                 36793\n",
       "WUG                  5206\n",
       "Water authority      3153\n",
       "WUA                  2883\n",
       "Water Board          2748\n",
       "Parastatal           1680\n",
       "Private operator     1063\n",
       "Company              1061\n",
       "Other                 766\n",
       "SWC                    97\n",
       "Trust                  72\n",
       "None                    1\n",
       "Name: scheme_management, dtype: int64"
      ]
     },
     "execution_count": 14,
     "metadata": {},
     "output_type": "execute_result"
    }
   ],
   "source": [
    "# Values in 'scheme_manascheme_managementgement'\n",
    "training_data.scheme_management.value_counts()"
   ]
  },
  {
   "cell_type": "code",
   "execution_count": 15,
   "id": "1d1fa17d-b247-43ed-b953-4cc5bb604ec5",
   "metadata": {},
   "outputs": [
    {
     "data": {
      "text/plain": [
       "vwc                 40507\n",
       "wug                  6515\n",
       "water board          2933\n",
       "wua                  2535\n",
       "private operator     1971\n",
       "parastatal           1768\n",
       "water authority       904\n",
       "other                 844\n",
       "company               685\n",
       "unknown               561\n",
       "other - school         99\n",
       "trust                  78\n",
       "Name: management, dtype: int64"
      ]
     },
     "execution_count": 15,
     "metadata": {},
     "output_type": "execute_result"
    }
   ],
   "source": [
    "# Values in management \n",
    "training_data.management.value_counts()"
   ]
  },
  {
   "cell_type": "code",
   "execution_count": 16,
   "id": "a827b7fd-dba8-4a39-9c09-b33f37b4dae2",
   "metadata": {},
   "outputs": [
    {
     "data": {
      "text/plain": [
       "3877"
      ]
     },
     "execution_count": 16,
     "metadata": {},
     "output_type": "execute_result"
    }
   ],
   "source": [
    "training_data.scheme_management.isna().sum()"
   ]
  },
  {
   "cell_type": "code",
   "execution_count": 17,
   "id": "55e36741-99b6-4ef6-80fa-e36a0cd91fe5",
   "metadata": {},
   "outputs": [
    {
     "data": {
      "text/plain": [
       "0"
      ]
     },
     "execution_count": 17,
     "metadata": {},
     "output_type": "execute_result"
    }
   ],
   "source": [
    "training_data.management.isna().sum()"
   ]
  },
  {
   "cell_type": "markdown",
   "id": "2517b176-0568-4e26-b762-deca50d30b02",
   "metadata": {},
   "source": [
    "**Both columns has same kind of data. But in 'scheme_management' column, there are 3877 missing values. So it is better to keep 'management' and drop the 'scheme_management'**"
   ]
  },
  {
   "cell_type": "code",
   "execution_count": 18,
   "id": "02fb4787-3821-479a-9a4c-5476f3e4cfc5",
   "metadata": {},
   "outputs": [],
   "source": [
    "df = df.drop('scheme_management', axis = 1)"
   ]
  },
  {
   "cell_type": "markdown",
   "id": "17b62168-d95e-478b-aca7-9d6ebb585060",
   "metadata": {},
   "source": [
    "**Check Below Columns**\n",
    "* Quantity\n",
    "* Quantity Group"
   ]
  },
  {
   "cell_type": "code",
   "execution_count": 19,
   "id": "5b3d5030-6619-4352-9d31-ed9028c4bc2b",
   "metadata": {},
   "outputs": [
    {
     "data": {
      "text/plain": [
       "enough          33186\n",
       "insufficient    15129\n",
       "dry              6246\n",
       "seasonal         4050\n",
       "unknown           789\n",
       "Name: quantity, dtype: int64"
      ]
     },
     "execution_count": 19,
     "metadata": {},
     "output_type": "execute_result"
    }
   ],
   "source": [
    "training_data.quantity.value_counts()"
   ]
  },
  {
   "cell_type": "code",
   "execution_count": 20,
   "id": "1befe8b5-9afa-4265-8310-5d18723d705c",
   "metadata": {},
   "outputs": [
    {
     "data": {
      "text/plain": [
       "enough          33186\n",
       "insufficient    15129\n",
       "dry              6246\n",
       "seasonal         4050\n",
       "unknown           789\n",
       "Name: quantity_group, dtype: int64"
      ]
     },
     "execution_count": 20,
     "metadata": {},
     "output_type": "execute_result"
    }
   ],
   "source": [
    "training_data.quantity_group.value_counts()"
   ]
  },
  {
   "cell_type": "markdown",
   "id": "0fc3384f-03bb-4a46-846c-100e05c1325d",
   "metadata": {},
   "source": [
    "**Both above 2 columns ('quantity' & 'quantity_group') have same values. So, we can drop one columns.**"
   ]
  },
  {
   "cell_type": "code",
   "execution_count": 21,
   "id": "06f77ffd-be44-4350-ad08-9dd76377c9d4",
   "metadata": {},
   "outputs": [],
   "source": [
    "df = df.drop('quantity_group', axis = 1)"
   ]
  },
  {
   "cell_type": "markdown",
   "id": "b68d4ab3-1512-43b3-b3ea-f12e7d745683",
   "metadata": {},
   "source": [
    "**Check below columns**\n",
    "* source\n",
    "* source_types"
   ]
  },
  {
   "cell_type": "code",
   "execution_count": 22,
   "id": "72a5b774-5981-4fc7-bd0f-b71fb0d51544",
   "metadata": {},
   "outputs": [
    {
     "data": {
      "text/plain": [
       "spring                  17021\n",
       "shallow well            16824\n",
       "machine dbh             11075\n",
       "river                    9612\n",
       "rainwater harvesting     2295\n",
       "hand dtw                  874\n",
       "lake                      765\n",
       "dam                       656\n",
       "other                     212\n",
       "unknown                    66\n",
       "Name: source, dtype: int64"
      ]
     },
     "execution_count": 22,
     "metadata": {},
     "output_type": "execute_result"
    }
   ],
   "source": [
    "training_data.source.value_counts()"
   ]
  },
  {
   "cell_type": "code",
   "execution_count": 23,
   "id": "2d73f7bc-3b63-40ba-b67d-924b4c7ff3b1",
   "metadata": {},
   "outputs": [
    {
     "data": {
      "text/plain": [
       "spring                  17021\n",
       "shallow well            16824\n",
       "borehole                11949\n",
       "river/lake              10377\n",
       "rainwater harvesting     2295\n",
       "dam                       656\n",
       "other                     278\n",
       "Name: source_type, dtype: int64"
      ]
     },
     "execution_count": 23,
     "metadata": {},
     "output_type": "execute_result"
    }
   ],
   "source": [
    "training_data.source_type.value_counts()"
   ]
  },
  {
   "cell_type": "markdown",
   "id": "7a45a2f0-7f79-494c-98db-29816393014e",
   "metadata": {},
   "source": [
    "**Both columns have same kind of values and 'source' has more data. So drop 'source_type' column**"
   ]
  },
  {
   "cell_type": "code",
   "execution_count": 24,
   "id": "48a98037-6813-4b18-96ba-faf7016bcb9c",
   "metadata": {},
   "outputs": [],
   "source": [
    "df = df.drop('source_type', axis = 1)"
   ]
  },
  {
   "cell_type": "markdown",
   "id": "2697d68c-8cd1-48ce-99c3-85f2378f25fe",
   "metadata": {},
   "source": [
    "#### **Check below groups**\n",
    "* water_quality\n",
    "* quality_group"
   ]
  },
  {
   "cell_type": "code",
   "execution_count": 25,
   "id": "4c9fa8bd-1702-4528-b173-1545fbeb688b",
   "metadata": {},
   "outputs": [
    {
     "data": {
      "text/plain": [
       "soft                  50818\n",
       "salty                  4856\n",
       "unknown                1876\n",
       "milky                   804\n",
       "coloured                490\n",
       "salty abandoned         339\n",
       "fluoride                200\n",
       "fluoride abandoned       17\n",
       "Name: water_quality, dtype: int64"
      ]
     },
     "execution_count": 25,
     "metadata": {},
     "output_type": "execute_result"
    }
   ],
   "source": [
    "training_data.water_quality.value_counts()"
   ]
  },
  {
   "cell_type": "code",
   "execution_count": 26,
   "id": "ac052c58-40f9-43f8-a0d6-cab4a1e1dab0",
   "metadata": {},
   "outputs": [
    {
     "data": {
      "text/plain": [
       "good        50818\n",
       "salty        5195\n",
       "unknown      1876\n",
       "milky         804\n",
       "colored       490\n",
       "fluoride      217\n",
       "Name: quality_group, dtype: int64"
      ]
     },
     "execution_count": 26,
     "metadata": {},
     "output_type": "execute_result"
    }
   ],
   "source": [
    "training_data.quality_group.value_counts()"
   ]
  },
  {
   "cell_type": "markdown",
   "id": "7dffca9c-b8d3-4043-87a4-4d2a01e1c355",
   "metadata": {},
   "source": [
    "**We can see that both columns have same kind of data and 'water_quality' has more values. So, drop the 'quality_group'**"
   ]
  },
  {
   "cell_type": "code",
   "execution_count": 27,
   "id": "1d94acf8-06a1-42c6-831a-f6a0ee670f4d",
   "metadata": {},
   "outputs": [],
   "source": [
    "df = df.drop('quality_group', axis = 1)"
   ]
  },
  {
   "cell_type": "markdown",
   "id": "ab17707a-db6a-4d3c-9225-159564df3931",
   "metadata": {},
   "source": [
    "#### **Check below columns** \n",
    "* payment\n",
    "* payment_types"
   ]
  },
  {
   "cell_type": "code",
   "execution_count": 28,
   "id": "572c66da-25e7-46d0-ba8a-2496bd6ccd31",
   "metadata": {},
   "outputs": [
    {
     "data": {
      "text/plain": [
       "never pay                25348\n",
       "pay per bucket            8985\n",
       "pay monthly               8300\n",
       "unknown                   8157\n",
       "pay when scheme fails     3914\n",
       "pay annually              3642\n",
       "other                     1054\n",
       "Name: payment, dtype: int64"
      ]
     },
     "execution_count": 28,
     "metadata": {},
     "output_type": "execute_result"
    }
   ],
   "source": [
    "training_data.payment.value_counts()"
   ]
  },
  {
   "cell_type": "code",
   "execution_count": 29,
   "id": "e5734a2a-33db-45a7-ac38-01c6ecf214fc",
   "metadata": {},
   "outputs": [
    {
     "data": {
      "text/plain": [
       "never pay     25348\n",
       "per bucket     8985\n",
       "monthly        8300\n",
       "unknown        8157\n",
       "on failure     3914\n",
       "annually       3642\n",
       "other          1054\n",
       "Name: payment_type, dtype: int64"
      ]
     },
     "execution_count": 29,
     "metadata": {},
     "output_type": "execute_result"
    }
   ],
   "source": [
    "training_data.payment_type.value_counts()"
   ]
  },
  {
   "cell_type": "markdown",
   "id": "155767a0-4f26-4975-bc6e-cf8899b65f06",
   "metadata": {},
   "source": [
    "**We can see that both have the same values. So we can drop one. We'll drop 'paymenent_type'**"
   ]
  },
  {
   "cell_type": "code",
   "execution_count": 30,
   "id": "c6d6b4cd-3978-401e-84f4-9f0ab38d44c5",
   "metadata": {},
   "outputs": [],
   "source": [
    "df = df.drop('payment_type', axis = 1)"
   ]
  },
  {
   "cell_type": "markdown",
   "id": "63d3f75a-fd56-4a76-b327-0213e92ec446",
   "metadata": {},
   "source": [
    "#### **Check below columns**\n",
    "* extraction_type\n",
    "* extraction_type_group"
   ]
  },
  {
   "cell_type": "code",
   "execution_count": 31,
   "id": "17938cb6-77bc-4a62-96f1-84bceb80522b",
   "metadata": {},
   "outputs": [
    {
     "data": {
      "text/plain": [
       "gravity                      26780\n",
       "nira/tanira                   8154\n",
       "other                         6430\n",
       "submersible                   4764\n",
       "swn 80                        3670\n",
       "mono                          2865\n",
       "india mark ii                 2400\n",
       "afridev                       1770\n",
       "ksb                           1415\n",
       "other - rope pump              451\n",
       "other - swn 81                 229\n",
       "windmill                       117\n",
       "india mark iii                  98\n",
       "cemo                            90\n",
       "other - play pump               85\n",
       "walimi                          48\n",
       "climax                          32\n",
       "other - mkulima/shinyanga        2\n",
       "Name: extraction_type, dtype: int64"
      ]
     },
     "execution_count": 31,
     "metadata": {},
     "output_type": "execute_result"
    }
   ],
   "source": [
    "training_data.extraction_type.value_counts()"
   ]
  },
  {
   "cell_type": "code",
   "execution_count": 32,
   "id": "f00a1056-984d-4087-86a8-dd8e3a379088",
   "metadata": {},
   "outputs": [
    {
     "data": {
      "text/plain": [
       "gravity            26780\n",
       "nira/tanira         8154\n",
       "other               6430\n",
       "submersible         6179\n",
       "swn 80              3670\n",
       "mono                2865\n",
       "india mark ii       2400\n",
       "afridev             1770\n",
       "rope pump            451\n",
       "other handpump       364\n",
       "other motorpump      122\n",
       "wind-powered         117\n",
       "india mark iii        98\n",
       "Name: extraction_type_group, dtype: int64"
      ]
     },
     "execution_count": 32,
     "metadata": {},
     "output_type": "execute_result"
    }
   ],
   "source": [
    "training_data.extraction_type_group.value_counts()"
   ]
  },
  {
   "cell_type": "markdown",
   "id": "5d9cd305-de75-479b-9ec7-0d2a3a8541a6",
   "metadata": {},
   "source": [
    "**We can see that both columns have same kind of values and 'extraction_type' has more unique vales. So we drop the 'extraction_type_group'**"
   ]
  },
  {
   "cell_type": "code",
   "execution_count": 33,
   "id": "2c46ada5-1e4f-4a18-88c7-c32b4d252f72",
   "metadata": {},
   "outputs": [],
   "source": [
    "df = df.drop('extraction_type_group', axis = 1)"
   ]
  },
  {
   "cell_type": "markdown",
   "id": "745e6952-210f-4ac2-9477-a2c4ab73a168",
   "metadata": {},
   "source": [
    "#### **Check below columns**\n",
    "* waterpoint_type\n",
    "* waterpoint_type_group"
   ]
  },
  {
   "cell_type": "code",
   "execution_count": 34,
   "id": "8e667182-821b-4cfe-9a52-e5978461b90f",
   "metadata": {},
   "outputs": [
    {
     "data": {
      "text/plain": [
       "communal standpipe             28522\n",
       "hand pump                      17488\n",
       "other                           6380\n",
       "communal standpipe multiple     6103\n",
       "improved spring                  784\n",
       "cattle trough                    116\n",
       "dam                                7\n",
       "Name: waterpoint_type, dtype: int64"
      ]
     },
     "execution_count": 34,
     "metadata": {},
     "output_type": "execute_result"
    }
   ],
   "source": [
    "training_data.waterpoint_type.value_counts()"
   ]
  },
  {
   "cell_type": "code",
   "execution_count": 35,
   "id": "1a388696-4b1c-4320-b64a-31ea9a957b18",
   "metadata": {},
   "outputs": [
    {
     "data": {
      "text/plain": [
       "communal standpipe    34625\n",
       "hand pump             17488\n",
       "other                  6380\n",
       "improved spring         784\n",
       "cattle trough           116\n",
       "dam                       7\n",
       "Name: waterpoint_type_group, dtype: int64"
      ]
     },
     "execution_count": 35,
     "metadata": {},
     "output_type": "execute_result"
    }
   ],
   "source": [
    "training_data.waterpoint_type_group.value_counts()"
   ]
  },
  {
   "cell_type": "markdown",
   "id": "f5f94af9-b0a1-4391-9a88-598a5627bc9f",
   "metadata": {},
   "source": [
    "**We can see that both columns contain same kind of data, but 'waterpoint_type' contains more unique data. So, we drop 'waterpoint_type_group'**"
   ]
  },
  {
   "cell_type": "code",
   "execution_count": 36,
   "id": "d70d16cb-7d47-4d1b-8996-0d14565c49bd",
   "metadata": {},
   "outputs": [],
   "source": [
    "df = df.drop('waterpoint_type_group', axis = 1)"
   ]
  },
  {
   "cell_type": "code",
   "execution_count": 37,
   "id": "eab60347-a5cf-4a22-91e6-3b3d17f73dac",
   "metadata": {},
   "outputs": [
    {
     "data": {
      "text/plain": [
       "scheme_name              35258\n",
       "status_group             14850\n",
       "installer                 4532\n",
       "funder                    4504\n",
       "public_meeting            4155\n",
       "permit                    3793\n",
       "subvillage                 470\n",
       "source_class                 0\n",
       "source                       0\n",
       "quantity                     0\n",
       "water_quality                0\n",
       "recorded_by                  0\n",
       "management_group             0\n",
       "management                   0\n",
       "extraction_type_class        0\n",
       "extraction_type              0\n",
       "construction_year            0\n",
       "waterpoint_type              0\n",
       "payment                      0\n",
       "index                        0\n",
       "amount_tsh                   0\n",
       "ward                         0\n",
       "lga                          0\n",
       "district_code                0\n",
       "region_code                  0\n",
       "region                       0\n",
       "basin                        0\n",
       "num_private                  0\n",
       "wpt_name                     0\n",
       "latitude                     0\n",
       "longitude                    0\n",
       "gps_height                   0\n",
       "date_recorded                0\n",
       "population                   0\n",
       "dtype: int64"
      ]
     },
     "execution_count": 37,
     "metadata": {},
     "output_type": "execute_result"
    }
   ],
   "source": [
    "df.isna().sum().sort_values(ascending=False)"
   ]
  },
  {
   "cell_type": "markdown",
   "id": "6572ebee-c612-4f31-9e40-78b64f4d5e4e",
   "metadata": {},
   "source": [
    "####\n",
    "\n",
    "### **Filling missing values and Other Feature Engineering Tasks**"
   ]
  },
  {
   "cell_type": "markdown",
   "id": "cac144ff-5010-4213-8dde-1add81012add",
   "metadata": {},
   "source": [
    "#### **Check 'recorded_by' column**"
   ]
  },
  {
   "cell_type": "code",
   "execution_count": 38,
   "id": "67bdb269-87ff-4e94-89cf-8425e5d12064",
   "metadata": {},
   "outputs": [
    {
     "data": {
      "text/plain": [
       "GeoData Consultants Ltd    59400\n",
       "Name: recorded_by, dtype: int64"
      ]
     },
     "execution_count": 38,
     "metadata": {},
     "output_type": "execute_result"
    }
   ],
   "source": [
    "training_data['recorded_by'].value_counts()"
   ]
  },
  {
   "cell_type": "markdown",
   "id": "59b7bab9-0f48-4843-a4b3-265bc2e3fd3b",
   "metadata": {},
   "source": [
    "**This has only one value. So no effect from that column. We can drop it**"
   ]
  },
  {
   "cell_type": "code",
   "execution_count": 39,
   "id": "1bf84a23-3e7d-4f4d-a773-c0eb7a4da639",
   "metadata": {},
   "outputs": [],
   "source": [
    "df = df.drop('recorded_by', axis = 1)"
   ]
  },
  {
   "cell_type": "markdown",
   "id": "7804b515-a9b6-4d19-9f04-205a47bd07cf",
   "metadata": {},
   "source": [
    "#### **Check 'installer' columns**"
   ]
  },
  {
   "cell_type": "code",
   "execution_count": 40,
   "id": "05484609-4524-4c2e-a0c5-8d3febe71c95",
   "metadata": {},
   "outputs": [
    {
     "data": {
      "text/plain": [
       "3655"
      ]
     },
     "execution_count": 40,
     "metadata": {},
     "output_type": "execute_result"
    }
   ],
   "source": [
    "# Check for nulkl values in installer column\\\n",
    "\n",
    "training_data.installer.isna().sum()"
   ]
  },
  {
   "cell_type": "code",
   "execution_count": 41,
   "id": "a3a14d32-0bb7-41ec-b4a0-dbdc1eaaa3eb",
   "metadata": {},
   "outputs": [],
   "source": [
    "# Fill null values using 'missing'\n",
    "\n",
    "df['installer'].fillna(value='missing',inplace=True)  \n",
    "training_data['installer'].fillna(value='missing',inplace=True)  "
   ]
  },
  {
   "cell_type": "code",
   "execution_count": 42,
   "id": "b6d5a680-3603-4fa9-b39a-37d0b307f015",
   "metadata": {},
   "outputs": [
    {
     "data": {
      "text/plain": [
       "DWE                 17402\n",
       "missing              3655\n",
       "Government           1825\n",
       "RWE                  1206\n",
       "Commu                1060\n",
       "                    ...  \n",
       "MH Kapuya               1\n",
       "GD&ID                   1\n",
       "CHONJA CHARLES          1\n",
       "CHRISTAN OUTRICH        1\n",
       "EGYPT                   1\n",
       "Name: installer, Length: 2146, dtype: int64"
      ]
     },
     "execution_count": 42,
     "metadata": {},
     "output_type": "execute_result"
    }
   ],
   "source": [
    "training_data.installer.value_counts()"
   ]
  },
  {
   "cell_type": "markdown",
   "id": "b20afe76-8f2a-4e46-87bd-cfbdc2d1a583",
   "metadata": {},
   "source": [
    "**There are many categorical values, but there are many error in recording the values like spelling mistakes kind of things. So we have to consider about those.**\n",
    "\n",
    "**eg :**\n",
    "* District Water Department , District water depar, Distric Water Department\n",
    "* Central Government , Cental Governmen\n",
    "\n",
    "**We have to make them correct**"
   ]
  },
  {
   "cell_type": "code",
   "execution_count": 43,
   "id": "d5e0d581-c340-4423-81c6-da3623759b45",
   "metadata": {},
   "outputs": [],
   "source": [
    "df['installer'].replace(to_replace = ('District Water Department', 'District water depar','Distric Water Department'),\n",
    "                        value ='District water department' , inplace=True)\n",
    "\n",
    "df['installer'].replace(to_replace = ('FinW','Fini water','FINI WATER'), value ='Fini Water' , inplace=True)\n",
    "df['installer'].replace(to_replace = 'JAICA', value ='Jaica' , inplace=True)\n",
    "\n",
    "df['installer'].replace(to_replace = ('COUN', 'District COUNCIL', 'DISTRICT COUNCIL','District Counci', \n",
    "                                      'District Council','Council','Counc','District  Council','Distri'),\n",
    "                                    value ='District council' , inplace=True)\n",
    "\n",
    "df['installer'].replace(to_replace = ('RC CHURCH', 'RC Churc', 'RC','RC Ch','RC C', 'RC CH','RC church', \n",
    "                                      'RC CATHORIC',) , value ='RC Church' , inplace=True)\n",
    "\n",
    "df['installer'].replace(to_replace = ('Central Government','Tanzania Government',\n",
    "                                       'central government','Cental Government', 'Cebtral Government', \n",
    "                                      'Tanzanian Government','Tanzania government', 'Centra Government' ,\n",
    "                                      'CENTRAL GOVERNMENT', 'TANZANIAN GOVERNMENT','Central govt', 'Centr', \n",
    "                                      'Centra govt') , value ='Central government' , inplace=True)\n",
    "\n",
    "df['installer'].replace(to_replace = ('World vision', 'World Division','World Vision'),\n",
    "                                        value ='world vision' , inplace=True)\n",
    "\n",
    "df['installer'].replace(to_replace = ('Unisef','UNICEF'),value ='Unicef' , inplace=True)\n",
    "df['installer'].replace(to_replace = 'DANID', value ='DANIDA' , inplace=True)\n",
    "\n",
    "df['installer'].replace(to_replace = ('villigers', 'villager', 'Villagers', 'Villa', 'Village', 'Villi', \n",
    "                                      'Village Council','Village Counil', 'Villages', 'Vill', 'Village community', \n",
    "                                      'Villaers', 'Village Community', 'Villag','Villege Council', 'Village council',\n",
    "                                      'Village  Council','Villagerd', 'Villager', 'Village Technician',\n",
    "                                      'Village Office','Village community members'),\n",
    "                                        value ='villagers' , inplace=True)\n",
    "\n",
    "df['installer'].replace(to_replace =('Commu','Communit','commu','COMMU', 'COMMUNITY') ,\n",
    "                                        value ='Community' , inplace=True)\n",
    "\n",
    "df['installer'].replace(to_replace = ('GOVERNMENT', 'GOVER', 'GOVERNME', 'GOVERM','GOVERN','Gover','Gove',\n",
    "                                      'Governme','Governmen' ) ,value ='Government' , inplace=True)\n",
    "\n",
    "df['installer'].replace(to_replace = 'Hesawa' ,value ='HESAWA' , inplace=True)"
   ]
  },
  {
   "cell_type": "code",
   "execution_count": 44,
   "id": "b43acbb0-b2f4-4588-a3ee-02514b7d15a2",
   "metadata": {},
   "outputs": [],
   "source": [
    "# Spelling mistakes \n",
    "\n",
    "df['installer'].replace(to_replace = ('Colonial Government') , value ='Colonial government' , inplace=True)\n",
    "df['installer'].replace(to_replace = ('Government of Misri') , value ='Misri Government' , inplace=True)\n",
    "df['installer'].replace(to_replace = ('Italy government') , value ='Italian government' , inplace=True)\n",
    "df['installer'].replace(to_replace = ('British colonial government') , value ='British government' , inplace=True)\n",
    "df['installer'].replace(to_replace = ('Concern /government') , value ='Concern/Government' , inplace=True)\n",
    "df['installer'].replace(to_replace = ('Village Government') , value ='Village government' , inplace=True)\n",
    "df['installer'].replace(to_replace = ('Government and Community') , value ='Government /Community' , inplace=True)\n",
    "df['installer'].replace(to_replace = ('Cetral government /RC') , value ='RC church/Central Gover' , inplace=True)\n",
    "df['installer'].replace(to_replace = ('Government /TCRS','Government/TCRS') , value ='TCRS /Government' , inplace=True)\n",
    "df['installer'].replace(to_replace = ('ADRA /Government') , value ='ADRA/Government' , inplace=True)"
   ]
  },
  {
   "cell_type": "code",
   "execution_count": 45,
   "id": "45334577-6838-4f79-9379-2fdc62a0c773",
   "metadata": {},
   "outputs": [
    {
     "data": {
      "text/plain": [
       "DWE                   17402\n",
       "missing                3655\n",
       "Government             1825\n",
       "RWE                    1206\n",
       "Commu                  1060\n",
       "DANIDA                 1050\n",
       "KKKT                    898\n",
       "Hesawa                  840\n",
       "0                       777\n",
       "TCRS                    707\n",
       "Central government      622\n",
       "CES                     610\n",
       "Community               553\n",
       "DANID                   552\n",
       "District Council        551\n",
       "HESAWA                  539\n",
       "World vision            408\n",
       "LGA                     408\n",
       "WEDECO                  397\n",
       "TASAF                   396\n",
       "District council        392\n",
       "Gover                   383\n",
       "AMREF                   329\n",
       "TWESA                   316\n",
       "WU                      301\n",
       "Dmdd                    287\n",
       "ACRA                    278\n",
       "World Vision            270\n",
       "SEMA                    249\n",
       "DW                      246\n",
       "Name: installer, dtype: int64"
      ]
     },
     "execution_count": 45,
     "metadata": {},
     "output_type": "execute_result"
    }
   ],
   "source": [
    "#Most 30 common installers are listed\n",
    "\n",
    "training_data.installer.value_counts().head(30) "
   ]
  },
  {
   "cell_type": "code",
   "execution_count": 46,
   "id": "0373d95d-ffe3-41ac-8b0a-e6a455ebadc3",
   "metadata": {},
   "outputs": [],
   "source": [
    "# We take first 20 and plot to see the analysis\n",
    "\n",
    "df_1 = training_data.loc[training_data['installer']== 'DWE']\n",
    "df_2 = training_data.loc[training_data['installer']== 'missing']              \n",
    "df_3 = training_data.loc[training_data['installer']== 'Government'] \n",
    "df_4 = training_data.loc[training_data['installer']== 'Community'] \n",
    "df_5 = training_data.loc[training_data['installer']== 'DANIDA'] \n",
    "df_6 = training_data.loc[training_data['installer']== 'RWE'] \n",
    "df_7 = training_data.loc[training_data['installer']== 'District council'] \n",
    "df_8 = training_data.loc[training_data['installer']== 'Central government']\n",
    "df_9 = training_data.loc[training_data['installer']== 'KKKT'] \n",
    "df_10 = training_data.loc[training_data['installer']== 'HESAWA'] \n",
    "df_11 = training_data.loc[training_data['installer']== 'TCRS'] \n",
    "df_12 = training_data.loc[training_data['installer']== 'world vision'] \n",
    "df_13 = training_data.loc[training_data['installer']== 'CES'] \n",
    "df_14 = training_data.loc[training_data['installer']== 'Fini Water'] \n",
    "df_15 = training_data.loc[training_data['installer']== 'RC Church'] \n",
    "df_16 = training_data.loc[training_data['installer']== 'villagers']\n",
    "df_17 = training_data.loc[training_data['installer']== 'LGA']\n",
    "df_18 = training_data.loc[training_data['installer']== 'WEDECO']\n",
    "df_19 = training_data.loc[training_data['installer']== 'Unicef']\n",
    "df_20 = training_data.loc[training_data['installer']== 'AMREF']\n",
    "\n",
    "df_installer = pd.concat([df_1,df_2,df_3,df_4,df_5,df_6,df_7,df_8,df_9,df_10,df_11,df_12,\n",
    "                          df_13,df_14,df_15,df_16,df_17, df_18, df_19, df_20], ignore_index=True)"
   ]
  },
  {
   "cell_type": "code",
   "execution_count": 47,
   "id": "5a26e847-3545-4db8-945b-152cfb7b7a6c",
   "metadata": {},
   "outputs": [
    {
     "data": {
      "image/png": "[encoded data removed]",
      "text/plain": [
       "<Figure size 1440x720 with 1 Axes>"
      ]
     },
     "metadata": {
      "needs_background": "light"
     },
     "output_type": "display_data"
    }
   ],
   "source": [
    "plt.figure(figsize=(20,10))\n",
    "ax = sns.countplot(x='installer', hue=\"status_group\", data=df_installer)"
   ]
  },
  {
   "cell_type": "markdown",
   "id": "22b5d00c-8765-4a3d-9fc7-7ce358a6b49f",
   "metadata": {},
   "source": [
    "As there are so many unique values with low frequencies, we can combine them and make a another category. So, below 300, we can name them as 'others'"
   ]
  },
  {
   "cell_type": "code",
   "execution_count": 48,
   "id": "41b7e7cc-3c72-4d50-a47f-a342a3663762",
   "metadata": {},
   "outputs": [],
   "source": [
    "# Creating new column as installer_category to categorize installers \n",
    "\n",
    "df['installer_category'] = df['installer'] "
   ]
  },
  {
   "cell_type": "code",
   "execution_count": 49,
   "id": "5ea92469-44bc-4b68-8c7a-7aa308ce8122",
   "metadata": {},
   "outputs": [],
   "source": [
    "# 'installer_categories' are only above 300 \n",
    "\n",
    "installer_categories = [\n",
    "    'DWE',\n",
    "    'missing',\n",
    "    'Government',\n",
    "    'Community',\n",
    "    'DANIDA',\n",
    "    'RWE',\n",
    "    'District council', \n",
    "    'Central government',\n",
    "    'KKKT',\n",
    "    'HESAWA',\n",
    "    'TCRS', \n",
    "    'world vision', \n",
    "    'Fini Water', \n",
    "    'RC Church',\n",
    "    'villagers',\n",
    "    'LGA',\n",
    "    'WEDECO',\n",
    "    'Unicef',\n",
    "    'AMREF',\n",
    "    'TWESA' ,\n",
    "    'WU'   ,\n",
    "    'Dmdd'  ,\n",
    "    'ACRA',\n",
    "    'SEMA',\n",
    "    'DW' ,\n",
    "    'Jaica'\n",
    "]\n",
    "\n",
    "df.loc[~df[\"installer_category\"].isin(installer_categories), \"installer_category\"] = \"Others\""
   ]
  },
  {
   "cell_type": "code",
   "execution_count": 50,
   "id": "50ffc490-3007-469e-8d00-daa3c38cb52b",
   "metadata": {},
   "outputs": [
    {
     "data": {
      "text/plain": [
       "Others                25568\n",
       "DWE                   21751\n",
       "missing                4532\n",
       "Government             3337\n",
       "Community              2112\n",
       "DANIDA                 1995\n",
       "HESAWA                 1749\n",
       "RWE                    1498\n",
       "District council       1449\n",
       "Central government     1359\n",
       "KKKT                   1120\n",
       "TCRS                    887\n",
       "world vision            846\n",
       "Fini Water              732\n",
       "RC Church               586\n",
       "villagers               514\n",
       "LGA                     501\n",
       "WEDECO                  496\n",
       "Unicef                  421\n",
       "AMREF                   398\n",
       "TWESA                   395\n",
       "WU                      377\n",
       "Dmdd                    356\n",
       "ACRA                    346\n",
       "SEMA                    311\n",
       "DW                      308\n",
       "Jaica                   306\n",
       "Name: installer_category, dtype: int64"
      ]
     },
     "execution_count": 50,
     "metadata": {},
     "output_type": "execute_result"
    }
   ],
   "source": [
    "df.installer_category.value_counts()"
   ]
  },
  {
   "cell_type": "code",
   "execution_count": 51,
   "id": "ef4c5351-2c2f-4a79-b8c1-dd066f599ab1",
   "metadata": {},
   "outputs": [],
   "source": [
    "# No need to have 'installer' column now. We can drop it \n",
    "\n",
    "df = df.drop('installer', axis = 1)"
   ]
  },
  {
   "cell_type": "markdown",
   "id": "76483387-890d-4940-840e-4e2c3c8257e5",
   "metadata": {},
   "source": [
    "#### **Check 'funder' Column**"
   ]
  },
  {
   "cell_type": "code",
   "execution_count": 52,
   "id": "11eff754-af93-4a4d-87c4-1e4b69f3539f",
   "metadata": {},
   "outputs": [],
   "source": [
    "# Fill missing values with 'missing'\n",
    "\n",
    "df['funder'].fillna(value='missing',inplace=True)\n",
    "df['funder'].replace(to_replace = '0', value ='missing' , inplace=True)"
   ]
  },
  {
   "cell_type": "code",
   "execution_count": 53,
   "id": "6722e9bd-8fed-4584-8552-1f8fda144e98",
   "metadata": {},
   "outputs": [
    {
     "data": {
      "text/plain": [
       "Government Of Tanzania    9084\n",
       "Danida                    3114\n",
       "Hesawa                    2202\n",
       "Rwssp                     1374\n",
       "World Bank                1349\n",
       "                          ... \n",
       "Elca                         1\n",
       "Mwamama                      1\n",
       "Villages                     1\n",
       "Lusajo                       1\n",
       "Plan Tanzania                1\n",
       "Name: funder, Length: 1897, dtype: int64"
      ]
     },
     "execution_count": 53,
     "metadata": {},
     "output_type": "execute_result"
    }
   ],
   "source": [
    "training_data['funder'].value_counts()"
   ]
  },
  {
   "cell_type": "code",
   "execution_count": 54,
   "id": "2263da5f-9e10-4cf6-b01a-5c49834fdceb",
   "metadata": {},
   "outputs": [
    {
     "data": {
      "text/plain": [
       "Government Of Tanzania    9084\n",
       "Danida                    3114\n",
       "Hesawa                    2202\n",
       "Rwssp                     1374\n",
       "World Bank                1349\n",
       "Kkkt                      1287\n",
       "World Vision              1246\n",
       "Unicef                    1057\n",
       "Tasaf                      877\n",
       "District Council           843\n",
       "Dhv                        829\n",
       "Private Individual         826\n",
       "Dwsp                       811\n",
       "0                          777\n",
       "Norad                      765\n",
       "Germany Republi            610\n",
       "Tcrs                       602\n",
       "Ministry Of Water          590\n",
       "Water                      583\n",
       "Dwe                        484\n",
       "Name: funder, dtype: int64"
      ]
     },
     "execution_count": 54,
     "metadata": {},
     "output_type": "execute_result"
    }
   ],
   "source": [
    "training_data.funder.value_counts().head(20)"
   ]
  },
  {
   "cell_type": "markdown",
   "id": "7dc273e2-533b-4b94-9908-961ae0731c14",
   "metadata": {},
   "source": [
    "**This is same as installer and have so  many unique values. So, get first 20 values and name others as 'others'**"
   ]
  },
  {
   "cell_type": "code",
   "execution_count": 55,
   "id": "91557803-b17d-4bc9-b1f5-ee9739dcbbf3",
   "metadata": {},
   "outputs": [],
   "source": [
    "# Only first 20 funded categories are selected and others named as 'others'\n",
    "\n",
    "df['funder_categories'] = df['funder'] \n",
    "\n",
    "c_fund = ['Danida','Unknown','Government Of Tanzania','Hesawa','Rwssp','World Bank','Kkkt', 'World Vision',\n",
    "         'Unicef','Tasaf','District Council', 'Dhv', 'Private Individual', 'Dwsp','Norad','Germany Republi',\n",
    "         'Tcrs','Ministry Of Water','Water','Dwe']\n",
    "    \n",
    "\n",
    "df.loc[~df[\"funder_categories\"].isin(c_fund), \"funder_categories\"] = \"Others\""
   ]
  },
  {
   "cell_type": "code",
   "execution_count": 56,
   "id": "11186e93-a6c2-4f76-bead-abb3ff3c4447",
   "metadata": {},
   "outputs": [
    {
     "data": {
      "text/plain": [
       "Others                    38539\n",
       "Government Of Tanzania    11299\n",
       "Danida                     3907\n",
       "Hesawa                     2782\n",
       "Rwssp                      1703\n",
       "World Bank                 1701\n",
       "Kkkt                       1623\n",
       "World Vision               1562\n",
       "Unicef                     1324\n",
       "Tasaf                      1136\n",
       "Dhv                        1065\n",
       "District Council           1037\n",
       "Private Individual         1034\n",
       "Dwsp                       1012\n",
       "Norad                       949\n",
       "Germany Republi             765\n",
       "Water                       739\n",
       "Tcrs                        735\n",
       "Ministry Of Water           728\n",
       "Dwe                         605\n",
       "Unknown                       5\n",
       "Name: funder_categories, dtype: int64"
      ]
     },
     "execution_count": 56,
     "metadata": {},
     "output_type": "execute_result"
    }
   ],
   "source": [
    "df['funder_categories'].value_counts()"
   ]
  },
  {
   "cell_type": "code",
   "execution_count": 57,
   "id": "3a7edf79-b011-485b-ab69-86bc57097592",
   "metadata": {},
   "outputs": [],
   "source": [
    "# No need of 'funder' column now. We can drop it \n",
    "\n",
    "df = df.drop('funder', axis = 1)"
   ]
  },
  {
   "cell_type": "code",
   "execution_count": 58,
   "id": "0cce3bb6-4a58-4d6e-a3c9-392a295c579d",
   "metadata": {},
   "outputs": [
    {
     "name": "stdout",
     "output_type": "stream",
     "text": [
      "<class 'pandas.core.frame.DataFrame'>\n",
      "RangeIndex: 74250 entries, 0 to 74249\n",
      "Data columns (total 33 columns):\n",
      " #   Column                 Non-Null Count  Dtype  \n",
      "---  ------                 --------------  -----  \n",
      " 0   index                  74250 non-null  int64  \n",
      " 1   amount_tsh             74250 non-null  float64\n",
      " 2   date_recorded          74250 non-null  object \n",
      " 3   gps_height             74250 non-null  int64  \n",
      " 4   longitude              74250 non-null  float64\n",
      " 5   latitude               74250 non-null  float64\n",
      " 6   wpt_name               74250 non-null  object \n",
      " 7   num_private            74250 non-null  int64  \n",
      " 8   basin                  74250 non-null  object \n",
      " 9   subvillage             73780 non-null  object \n",
      " 10  region                 74250 non-null  object \n",
      " 11  region_code            74250 non-null  int64  \n",
      " 12  district_code          74250 non-null  int64  \n",
      " 13  lga                    74250 non-null  object \n",
      " 14  ward                   74250 non-null  object \n",
      " 15  population             74250 non-null  int64  \n",
      " 16  public_meeting         70095 non-null  object \n",
      " 17  scheme_name            38992 non-null  object \n",
      " 18  permit                 70457 non-null  object \n",
      " 19  construction_year      74250 non-null  int64  \n",
      " 20  extraction_type        74250 non-null  object \n",
      " 21  extraction_type_class  74250 non-null  object \n",
      " 22  management             74250 non-null  object \n",
      " 23  management_group       74250 non-null  object \n",
      " 24  payment                74250 non-null  object \n",
      " 25  water_quality          74250 non-null  object \n",
      " 26  quantity               74250 non-null  object \n",
      " 27  source                 74250 non-null  object \n",
      " 28  source_class           74250 non-null  object \n",
      " 29  waterpoint_type        74250 non-null  object \n",
      " 30  status_group           59400 non-null  object \n",
      " 31  installer_category     74250 non-null  object \n",
      " 32  funder_categories      74250 non-null  object \n",
      "dtypes: float64(3), int64(7), object(23)\n",
      "memory usage: 18.7+ MB\n"
     ]
    }
   ],
   "source": [
    "df.info()"
   ]
  },
  {
   "cell_type": "markdown",
   "id": "da5d7c12-8245-43a2-b7ae-5c03d62d1aaf",
   "metadata": {},
   "source": [
    "#### **Check 'date_recorded' column**"
   ]
  },
  {
   "cell_type": "markdown",
   "id": "57d51692-d8b5-4eab-8436-3f895014b3fd",
   "metadata": {},
   "source": [
    "**Most of the data were recorder in nearest years each other (like 2 years) we can ignore it and drop the column**"
   ]
  },
  {
   "cell_type": "code",
   "execution_count": 59,
   "id": "26e41c37-ee3e-495c-a8c9-2db4e39c40c2",
   "metadata": {},
   "outputs": [],
   "source": [
    "df = df.drop('date_recorded', axis = 1)"
   ]
  },
  {
   "cell_type": "code",
   "execution_count": 60,
   "id": "656f7a63-d5ba-4a33-ae56-aa7432f4f750",
   "metadata": {},
   "outputs": [
    {
     "name": "stdout",
     "output_type": "stream",
     "text": [
      "<class 'pandas.core.frame.DataFrame'>\n",
      "RangeIndex: 74250 entries, 0 to 74249\n",
      "Data columns (total 32 columns):\n",
      " #   Column                 Non-Null Count  Dtype  \n",
      "---  ------                 --------------  -----  \n",
      " 0   index                  74250 non-null  int64  \n",
      " 1   amount_tsh             74250 non-null  float64\n",
      " 2   gps_height             74250 non-null  int64  \n",
      " 3   longitude              74250 non-null  float64\n",
      " 4   latitude               74250 non-null  float64\n",
      " 5   wpt_name               74250 non-null  object \n",
      " 6   num_private            74250 non-null  int64  \n",
      " 7   basin                  74250 non-null  object \n",
      " 8   subvillage             73780 non-null  object \n",
      " 9   region                 74250 non-null  object \n",
      " 10  region_code            74250 non-null  int64  \n",
      " 11  district_code          74250 non-null  int64  \n",
      " 12  lga                    74250 non-null  object \n",
      " 13  ward                   74250 non-null  object \n",
      " 14  population             74250 non-null  int64  \n",
      " 15  public_meeting         70095 non-null  object \n",
      " 16  scheme_name            38992 non-null  object \n",
      " 17  permit                 70457 non-null  object \n",
      " 18  construction_year      74250 non-null  int64  \n",
      " 19  extraction_type        74250 non-null  object \n",
      " 20  extraction_type_class  74250 non-null  object \n",
      " 21  management             74250 non-null  object \n",
      " 22  management_group       74250 non-null  object \n",
      " 23  payment                74250 non-null  object \n",
      " 24  water_quality          74250 non-null  object \n",
      " 25  quantity               74250 non-null  object \n",
      " 26  source                 74250 non-null  object \n",
      " 27  source_class           74250 non-null  object \n",
      " 28  waterpoint_type        74250 non-null  object \n",
      " 29  status_group           59400 non-null  object \n",
      " 30  installer_category     74250 non-null  object \n",
      " 31  funder_categories      74250 non-null  object \n",
      "dtypes: float64(3), int64(7), object(22)\n",
      "memory usage: 18.1+ MB\n"
     ]
    }
   ],
   "source": [
    "df.info()"
   ]
  },
  {
   "cell_type": "markdown",
   "id": "36e92874-19e8-4681-b993-396faedfc854",
   "metadata": {},
   "source": [
    "#### **Check 'num_private' column**"
   ]
  },
  {
   "cell_type": "code",
   "execution_count": 61,
   "id": "02e11d55-da1f-4e5c-8e7a-eced7895c86d",
   "metadata": {},
   "outputs": [
    {
     "data": {
      "text/plain": [
       "0      58643\n",
       "6         81\n",
       "1         73\n",
       "8         46\n",
       "5         46\n",
       "       ...  \n",
       "42         1\n",
       "136        1\n",
       "35         1\n",
       "131        1\n",
       "94         1\n",
       "Name: num_private, Length: 65, dtype: int64"
      ]
     },
     "execution_count": 61,
     "metadata": {},
     "output_type": "execute_result"
    }
   ],
   "source": [
    "training_data.num_private.value_counts()"
   ]
  },
  {
   "cell_type": "markdown",
   "id": "7c0b04b0-3c45-4086-ae36-c43c734bd558",
   "metadata": {},
   "source": [
    "**We can see that most values have value of \"0\". We can drop this column**"
   ]
  },
  {
   "cell_type": "code",
   "execution_count": 62,
   "id": "46287cd2-6ae3-4391-a55a-19501dfee8c9",
   "metadata": {},
   "outputs": [],
   "source": [
    "df = df.drop('num_private', axis = 1)"
   ]
  },
  {
   "cell_type": "code",
   "execution_count": 63,
   "id": "67c14d12-4620-4186-8d69-dd59224c9afd",
   "metadata": {},
   "outputs": [
    {
     "name": "stdout",
     "output_type": "stream",
     "text": [
      "<class 'pandas.core.frame.DataFrame'>\n",
      "RangeIndex: 74250 entries, 0 to 74249\n",
      "Data columns (total 31 columns):\n",
      " #   Column                 Non-Null Count  Dtype  \n",
      "---  ------                 --------------  -----  \n",
      " 0   index                  74250 non-null  int64  \n",
      " 1   amount_tsh             74250 non-null  float64\n",
      " 2   gps_height             74250 non-null  int64  \n",
      " 3   longitude              74250 non-null  float64\n",
      " 4   latitude               74250 non-null  float64\n",
      " 5   wpt_name               74250 non-null  object \n",
      " 6   basin                  74250 non-null  object \n",
      " 7   subvillage             73780 non-null  object \n",
      " 8   region                 74250 non-null  object \n",
      " 9   region_code            74250 non-null  int64  \n",
      " 10  district_code          74250 non-null  int64  \n",
      " 11  lga                    74250 non-null  object \n",
      " 12  ward                   74250 non-null  object \n",
      " 13  population             74250 non-null  int64  \n",
      " 14  public_meeting         70095 non-null  object \n",
      " 15  scheme_name            38992 non-null  object \n",
      " 16  permit                 70457 non-null  object \n",
      " 17  construction_year      74250 non-null  int64  \n",
      " 18  extraction_type        74250 non-null  object \n",
      " 19  extraction_type_class  74250 non-null  object \n",
      " 20  management             74250 non-null  object \n",
      " 21  management_group       74250 non-null  object \n",
      " 22  payment                74250 non-null  object \n",
      " 23  water_quality          74250 non-null  object \n",
      " 24  quantity               74250 non-null  object \n",
      " 25  source                 74250 non-null  object \n",
      " 26  source_class           74250 non-null  object \n",
      " 27  waterpoint_type        74250 non-null  object \n",
      " 28  status_group           59400 non-null  object \n",
      " 29  installer_category     74250 non-null  object \n",
      " 30  funder_categories      74250 non-null  object \n",
      "dtypes: float64(3), int64(6), object(22)\n",
      "memory usage: 17.6+ MB\n"
     ]
    }
   ],
   "source": [
    "df.info()"
   ]
  },
  {
   "cell_type": "markdown",
   "id": "08f33d02-8a3a-427b-8f5e-fde7291b5873",
   "metadata": {},
   "source": [
    "#### **Check 'public_meeting' column**"
   ]
  },
  {
   "cell_type": "code",
   "execution_count": 64,
   "id": "496ca149-2d70-4308-8d66-cde1f039f458",
   "metadata": {},
   "outputs": [
    {
     "data": {
      "text/plain": [
       "True     51011\n",
       "False     5055\n",
       "Name: public_meeting, dtype: int64"
      ]
     },
     "execution_count": 64,
     "metadata": {},
     "output_type": "execute_result"
    }
   ],
   "source": [
    "training_data.public_meeting.value_counts()"
   ]
  },
  {
   "cell_type": "code",
   "execution_count": 65,
   "id": "6e1046fa-fc5d-475f-bae6-6949a8c43d0a",
   "metadata": {},
   "outputs": [
    {
     "data": {
      "text/plain": [
       "3334"
      ]
     },
     "execution_count": 65,
     "metadata": {},
     "output_type": "execute_result"
    }
   ],
   "source": [
    "training_data.public_meeting.isna().sum()"
   ]
  },
  {
   "cell_type": "markdown",
   "id": "d87a3f76-32c9-4b78-8263-817c8c75e792",
   "metadata": {},
   "source": [
    "**Most are \"True\" vales. We can fill missing values with \"True\"**"
   ]
  },
  {
   "cell_type": "code",
   "execution_count": 66,
   "id": "b8b5cfd8-91b8-4025-b868-151b28845024",
   "metadata": {},
   "outputs": [],
   "source": [
    "df['public_meeting'].fillna(value=True,inplace=True)"
   ]
  },
  {
   "cell_type": "markdown",
   "id": "6a2d9780-cf0d-455c-a751-0e2812299929",
   "metadata": {},
   "source": [
    "#### **Check 'permit' column**"
   ]
  },
  {
   "cell_type": "code",
   "execution_count": 67,
   "id": "a910ecc0-b6c3-4a33-99a4-73822cebc96c",
   "metadata": {},
   "outputs": [
    {
     "data": {
      "text/plain": [
       "True     38852\n",
       "False    17492\n",
       "Name: permit, dtype: int64"
      ]
     },
     "execution_count": 67,
     "metadata": {},
     "output_type": "execute_result"
    }
   ],
   "source": [
    "training_data['permit'].value_counts()"
   ]
  },
  {
   "cell_type": "markdown",
   "id": "11094640-8f06-436b-8993-8344094609e2",
   "metadata": {},
   "source": [
    "**Most are \"True\" vales. We can fill missing values with \"True\"**"
   ]
  },
  {
   "cell_type": "code",
   "execution_count": 68,
   "id": "460b5883-d490-47bc-b2ee-62e2174287db",
   "metadata": {},
   "outputs": [],
   "source": [
    "df['permit'].fillna(value=True, inplace=True)"
   ]
  },
  {
   "cell_type": "markdown",
   "id": "a2362510-09c6-476c-ae50-7898c0870bd0",
   "metadata": {},
   "source": [
    "**Changing True, False to 1,0 in bool columns**"
   ]
  },
  {
   "cell_type": "code",
   "execution_count": 69,
   "id": "69558135-d447-4301-8a14-2d1feb9036cf",
   "metadata": {},
   "outputs": [],
   "source": [
    "df['permit'] = df['permit'].astype(bool).astype(int)"
   ]
  },
  {
   "cell_type": "code",
   "execution_count": 70,
   "id": "d700116a-1966-41a7-98bf-f5cb773dcb25",
   "metadata": {},
   "outputs": [],
   "source": [
    "df['public_meeting'] = df['public_meeting'].astype(bool).astype(int)"
   ]
  },
  {
   "cell_type": "code",
   "execution_count": 71,
   "id": "9cfca3e0-297b-4333-b9ec-1eb952375ee2",
   "metadata": {},
   "outputs": [
    {
     "name": "stdout",
     "output_type": "stream",
     "text": [
      "<class 'pandas.core.frame.DataFrame'>\n",
      "RangeIndex: 74250 entries, 0 to 74249\n",
      "Data columns (total 31 columns):\n",
      " #   Column                 Non-Null Count  Dtype  \n",
      "---  ------                 --------------  -----  \n",
      " 0   index                  74250 non-null  int64  \n",
      " 1   amount_tsh             74250 non-null  float64\n",
      " 2   gps_height             74250 non-null  int64  \n",
      " 3   longitude              74250 non-null  float64\n",
      " 4   latitude               74250 non-null  float64\n",
      " 5   wpt_name               74250 non-null  object \n",
      " 6   basin                  74250 non-null  object \n",
      " 7   subvillage             73780 non-null  object \n",
      " 8   region                 74250 non-null  object \n",
      " 9   region_code            74250 non-null  int64  \n",
      " 10  district_code          74250 non-null  int64  \n",
      " 11  lga                    74250 non-null  object \n",
      " 12  ward                   74250 non-null  object \n",
      " 13  population             74250 non-null  int64  \n",
      " 14  public_meeting         74250 non-null  int64  \n",
      " 15  scheme_name            38992 non-null  object \n",
      " 16  permit                 74250 non-null  int64  \n",
      " 17  construction_year      74250 non-null  int64  \n",
      " 18  extraction_type        74250 non-null  object \n",
      " 19  extraction_type_class  74250 non-null  object \n",
      " 20  management             74250 non-null  object \n",
      " 21  management_group       74250 non-null  object \n",
      " 22  payment                74250 non-null  object \n",
      " 23  water_quality          74250 non-null  object \n",
      " 24  quantity               74250 non-null  object \n",
      " 25  source                 74250 non-null  object \n",
      " 26  source_class           74250 non-null  object \n",
      " 27  waterpoint_type        74250 non-null  object \n",
      " 28  status_group           59400 non-null  object \n",
      " 29  installer_category     74250 non-null  object \n",
      " 30  funder_categories      74250 non-null  object \n",
      "dtypes: float64(3), int64(8), object(20)\n",
      "memory usage: 17.6+ MB\n"
     ]
    }
   ],
   "source": [
    "df.info()"
   ]
  },
  {
   "cell_type": "code",
   "execution_count": 72,
   "id": "4aa03582-f126-42a4-9680-9ffdbb44d741",
   "metadata": {},
   "outputs": [
    {
     "name": "stdout",
     "output_type": "stream",
     "text": [
      "No.of categorical columns :  19\n"
     ]
    },
    {
     "data": {
      "text/plain": [
       "['wpt_name',\n",
       " 'basin',\n",
       " 'subvillage',\n",
       " 'region',\n",
       " 'lga',\n",
       " 'ward',\n",
       " 'scheme_name',\n",
       " 'extraction_type',\n",
       " 'extraction_type_class',\n",
       " 'management',\n",
       " 'management_group',\n",
       " 'payment',\n",
       " 'water_quality',\n",
       " 'quantity',\n",
       " 'source',\n",
       " 'source_class',\n",
       " 'waterpoint_type',\n",
       " 'installer_category',\n",
       " 'funder_categories']"
      ]
     },
     "execution_count": 72,
     "metadata": {},
     "output_type": "execute_result"
    }
   ],
   "source": [
    "# Categorical columns \n",
    "\n",
    "categorical_cols = list(df.select_dtypes('object').columns)\n",
    "categorical_cols.remove(\"status_group\")\n",
    "\n",
    "\n",
    "print (\"No.of categorical columns : \",len(categorical_cols))\n",
    "\n",
    "categorical_cols"
   ]
  },
  {
   "cell_type": "code",
   "execution_count": 73,
   "id": "49fc16b9-261c-458e-9e68-1485ff630931",
   "metadata": {},
   "outputs": [
    {
     "data": {
      "text/html": [
       "<div>\n",
       "<style scoped>\n",
       "    .dataframe tbody tr th:only-of-type {\n",
       "        vertical-align: middle;\n",
       "    }\n",
       "\n",
       "    .dataframe tbody tr th {\n",
       "        vertical-align: top;\n",
       "    }\n",
       "\n",
       "    .dataframe thead th {\n",
       "        text-align: right;\n",
       "    }\n",
       "</style>\n",
       "<table border=\"1\" class=\"dataframe\">\n",
       "  <thead>\n",
       "    <tr style=\"text-align: right;\">\n",
       "      <th></th>\n",
       "      <th>index</th>\n",
       "      <th>amount_tsh</th>\n",
       "      <th>gps_height</th>\n",
       "      <th>longitude</th>\n",
       "      <th>latitude</th>\n",
       "      <th>wpt_name</th>\n",
       "      <th>basin</th>\n",
       "      <th>subvillage</th>\n",
       "      <th>region</th>\n",
       "      <th>region_code</th>\n",
       "      <th>...</th>\n",
       "      <th>management_group</th>\n",
       "      <th>payment</th>\n",
       "      <th>water_quality</th>\n",
       "      <th>quantity</th>\n",
       "      <th>source</th>\n",
       "      <th>source_class</th>\n",
       "      <th>waterpoint_type</th>\n",
       "      <th>status_group</th>\n",
       "      <th>installer_category</th>\n",
       "      <th>funder_categories</th>\n",
       "    </tr>\n",
       "  </thead>\n",
       "  <tbody>\n",
       "    <tr>\n",
       "      <th>0</th>\n",
       "      <td>0</td>\n",
       "      <td>6000.0</td>\n",
       "      <td>1390</td>\n",
       "      <td>34.938093</td>\n",
       "      <td>-9.856322</td>\n",
       "      <td>none</td>\n",
       "      <td>Lake Nyasa</td>\n",
       "      <td>Mnyusi B</td>\n",
       "      <td>Iringa</td>\n",
       "      <td>11</td>\n",
       "      <td>...</td>\n",
       "      <td>user-group</td>\n",
       "      <td>pay annually</td>\n",
       "      <td>soft</td>\n",
       "      <td>enough</td>\n",
       "      <td>spring</td>\n",
       "      <td>groundwater</td>\n",
       "      <td>communal standpipe</td>\n",
       "      <td>functional</td>\n",
       "      <td>Others</td>\n",
       "      <td>Others</td>\n",
       "    </tr>\n",
       "    <tr>\n",
       "      <th>1</th>\n",
       "      <td>1</td>\n",
       "      <td>0.0</td>\n",
       "      <td>1399</td>\n",
       "      <td>34.698766</td>\n",
       "      <td>-2.147466</td>\n",
       "      <td>Zahanati</td>\n",
       "      <td>Lake Victoria</td>\n",
       "      <td>Nyamara</td>\n",
       "      <td>Mara</td>\n",
       "      <td>20</td>\n",
       "      <td>...</td>\n",
       "      <td>user-group</td>\n",
       "      <td>never pay</td>\n",
       "      <td>soft</td>\n",
       "      <td>insufficient</td>\n",
       "      <td>rainwater harvesting</td>\n",
       "      <td>surface</td>\n",
       "      <td>communal standpipe</td>\n",
       "      <td>functional</td>\n",
       "      <td>Others</td>\n",
       "      <td>Others</td>\n",
       "    </tr>\n",
       "    <tr>\n",
       "      <th>2</th>\n",
       "      <td>2</td>\n",
       "      <td>25.0</td>\n",
       "      <td>686</td>\n",
       "      <td>37.460664</td>\n",
       "      <td>-3.821329</td>\n",
       "      <td>Kwa Mahundi</td>\n",
       "      <td>Pangani</td>\n",
       "      <td>Majengo</td>\n",
       "      <td>Manyara</td>\n",
       "      <td>21</td>\n",
       "      <td>...</td>\n",
       "      <td>user-group</td>\n",
       "      <td>pay per bucket</td>\n",
       "      <td>soft</td>\n",
       "      <td>enough</td>\n",
       "      <td>dam</td>\n",
       "      <td>surface</td>\n",
       "      <td>communal standpipe multiple</td>\n",
       "      <td>functional</td>\n",
       "      <td>world vision</td>\n",
       "      <td>Others</td>\n",
       "    </tr>\n",
       "    <tr>\n",
       "      <th>3</th>\n",
       "      <td>3</td>\n",
       "      <td>0.0</td>\n",
       "      <td>263</td>\n",
       "      <td>38.486161</td>\n",
       "      <td>-11.155298</td>\n",
       "      <td>Zahanati Ya Nanyumbu</td>\n",
       "      <td>Ruvuma / Southern Coast</td>\n",
       "      <td>Mahakamani</td>\n",
       "      <td>Mtwara</td>\n",
       "      <td>90</td>\n",
       "      <td>...</td>\n",
       "      <td>user-group</td>\n",
       "      <td>never pay</td>\n",
       "      <td>soft</td>\n",
       "      <td>dry</td>\n",
       "      <td>machine dbh</td>\n",
       "      <td>groundwater</td>\n",
       "      <td>communal standpipe multiple</td>\n",
       "      <td>non functional</td>\n",
       "      <td>Unicef</td>\n",
       "      <td>Unicef</td>\n",
       "    </tr>\n",
       "    <tr>\n",
       "      <th>4</th>\n",
       "      <td>4</td>\n",
       "      <td>0.0</td>\n",
       "      <td>0</td>\n",
       "      <td>31.130847</td>\n",
       "      <td>-1.825359</td>\n",
       "      <td>Shuleni</td>\n",
       "      <td>Lake Victoria</td>\n",
       "      <td>Kyanyamisa</td>\n",
       "      <td>Kagera</td>\n",
       "      <td>18</td>\n",
       "      <td>...</td>\n",
       "      <td>other</td>\n",
       "      <td>never pay</td>\n",
       "      <td>soft</td>\n",
       "      <td>seasonal</td>\n",
       "      <td>rainwater harvesting</td>\n",
       "      <td>surface</td>\n",
       "      <td>communal standpipe</td>\n",
       "      <td>functional</td>\n",
       "      <td>Others</td>\n",
       "      <td>Others</td>\n",
       "    </tr>\n",
       "  </tbody>\n",
       "</table>\n",
       "<p>5 rows × 31 columns</p>\n",
       "</div>"
      ],
      "text/plain": [
       "   index  amount_tsh  gps_height  longitude   latitude              wpt_name  \\\n",
       "0      0      6000.0        1390  34.938093  -9.856322                  none   \n",
       "1      1         0.0        1399  34.698766  -2.147466              Zahanati   \n",
       "2      2        25.0         686  37.460664  -3.821329           Kwa Mahundi   \n",
       "3      3         0.0         263  38.486161 -11.155298  Zahanati Ya Nanyumbu   \n",
       "4      4         0.0           0  31.130847  -1.825359               Shuleni   \n",
       "\n",
       "                     basin  subvillage   region  region_code  ...  \\\n",
       "0               Lake Nyasa    Mnyusi B   Iringa           11  ...   \n",
       "1            Lake Victoria     Nyamara     Mara           20  ...   \n",
       "2                  Pangani     Majengo  Manyara           21  ...   \n",
       "3  Ruvuma / Southern Coast  Mahakamani   Mtwara           90  ...   \n",
       "4            Lake Victoria  Kyanyamisa   Kagera           18  ...   \n",
       "\n",
       "   management_group         payment water_quality      quantity  \\\n",
       "0        user-group    pay annually          soft        enough   \n",
       "1        user-group       never pay          soft  insufficient   \n",
       "2        user-group  pay per bucket          soft        enough   \n",
       "3        user-group       never pay          soft           dry   \n",
       "4             other       never pay          soft      seasonal   \n",
       "\n",
       "                 source source_class              waterpoint_type  \\\n",
       "0                spring  groundwater           communal standpipe   \n",
       "1  rainwater harvesting      surface           communal standpipe   \n",
       "2                   dam      surface  communal standpipe multiple   \n",
       "3           machine dbh  groundwater  communal standpipe multiple   \n",
       "4  rainwater harvesting      surface           communal standpipe   \n",
       "\n",
       "     status_group installer_category funder_categories  \n",
       "0      functional             Others            Others  \n",
       "1      functional             Others            Others  \n",
       "2      functional       world vision            Others  \n",
       "3  non functional             Unicef            Unicef  \n",
       "4      functional             Others            Others  \n",
       "\n",
       "[5 rows x 31 columns]"
      ]
     },
     "execution_count": 73,
     "metadata": {},
     "output_type": "execute_result"
    }
   ],
   "source": [
    "df.head()"
   ]
  },
  {
   "cell_type": "markdown",
   "id": "03b6f9eb-99af-4a48-8069-6783e4f4f365",
   "metadata": {},
   "source": [
    "**Label encoding categorical features**"
   ]
  },
  {
   "cell_type": "code",
   "execution_count": 74,
   "id": "dc61d72d-8270-47e1-a85f-2c02a727896d",
   "metadata": {},
   "outputs": [],
   "source": [
    "from sklearn.preprocessing import LabelEncoder\n",
    "\n",
    "labelencoder = LabelEncoder()\n",
    "from category_encoders import OrdinalEncoder as oe\n",
    "for col in (categorical_cols):\n",
    "    df[col]=labelencoder.fit_transform(df[col])"
   ]
  },
  {
   "cell_type": "code",
   "execution_count": 75,
   "id": "d09fea97-c11a-4ef1-845c-31dc3bf73f8b",
   "metadata": {},
   "outputs": [
    {
     "name": "stdout",
     "output_type": "stream",
     "text": [
      "<class 'pandas.core.frame.DataFrame'>\n",
      "RangeIndex: 74250 entries, 0 to 74249\n",
      "Data columns (total 31 columns):\n",
      " #   Column                 Non-Null Count  Dtype  \n",
      "---  ------                 --------------  -----  \n",
      " 0   index                  74250 non-null  int64  \n",
      " 1   amount_tsh             74250 non-null  float64\n",
      " 2   gps_height             74250 non-null  int64  \n",
      " 3   longitude              74250 non-null  float64\n",
      " 4   latitude               74250 non-null  float64\n",
      " 5   wpt_name               74250 non-null  int64  \n",
      " 6   basin                  74250 non-null  int64  \n",
      " 7   subvillage             74250 non-null  int64  \n",
      " 8   region                 74250 non-null  int64  \n",
      " 9   region_code            74250 non-null  int64  \n",
      " 10  district_code          74250 non-null  int64  \n",
      " 11  lga                    74250 non-null  int64  \n",
      " 12  ward                   74250 non-null  int64  \n",
      " 13  population             74250 non-null  int64  \n",
      " 14  public_meeting         74250 non-null  int64  \n",
      " 15  scheme_name            74250 non-null  int64  \n",
      " 16  permit                 74250 non-null  int64  \n",
      " 17  construction_year      74250 non-null  int64  \n",
      " 18  extraction_type        74250 non-null  int64  \n",
      " 19  extraction_type_class  74250 non-null  int64  \n",
      " 20  management             74250 non-null  int64  \n",
      " 21  management_group       74250 non-null  int64  \n",
      " 22  payment                74250 non-null  int64  \n",
      " 23  water_quality          74250 non-null  int64  \n",
      " 24  quantity               74250 non-null  int64  \n",
      " 25  source                 74250 non-null  int64  \n",
      " 26  source_class           74250 non-null  int64  \n",
      " 27  waterpoint_type        74250 non-null  int64  \n",
      " 28  status_group           59400 non-null  object \n",
      " 29  installer_category     74250 non-null  int64  \n",
      " 30  funder_categories      74250 non-null  int64  \n",
      "dtypes: float64(3), int64(27), object(1)\n",
      "memory usage: 17.6+ MB\n"
     ]
    }
   ],
   "source": [
    "df.info()"
   ]
  },
  {
   "cell_type": "markdown",
   "id": "79f0cdc1-3894-4023-a93c-bbddbdc22f78",
   "metadata": {},
   "source": [
    "**Write refined and cleaned data to 'Refined_data.csv' to use in feature selection and model training**"
   ]
  },
  {
   "cell_type": "code",
   "execution_count": 76,
   "id": "6216c348-5428-4bac-88e5-8a7d9a64c107",
   "metadata": {},
   "outputs": [],
   "source": [
    "df.to_csv('Refined_data.csv')"
   ]
  }
 ],
 "metadata": {
  "kernelspec": {
   "display_name": "Python 3",
   "language": "python",
   "name": "python3"
  },
  "language_info": {
   "codemirror_mode": {
    "name": "ipython",
    "version": 3
   },
   "file_extension": ".py",
   "mimetype": "text/x-python",
   "name": "python",
   "nbconvert_exporter": "python",
   "pygments_lexer": "ipython3",
   "version": "3.8.8"
  }
 },
 "nbformat": 4,
 "nbformat_minor": 5
}
